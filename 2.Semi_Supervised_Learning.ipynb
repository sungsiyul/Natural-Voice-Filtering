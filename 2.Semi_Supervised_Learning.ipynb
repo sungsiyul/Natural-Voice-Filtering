{
 "cells": [
  {
   "cell_type": "markdown",
   "id": "07ac5044-c9ad-4a92-934c-295b2ecf75bf",
   "metadata": {},
   "source": [
    "# Semi-Supervised Learning"
   ]
  },
  {
   "cell_type": "markdown",
   "id": "15acd076-f322-458c-9b08-bb2ada31a97d",
   "metadata": {},
   "source": [
    "## 필수 라이브러리 import"
   ]
  },
  {
   "cell_type": "code",
   "execution_count": 1,
   "id": "468408c5-e321-4412-88dd-76ee615e9a50",
   "metadata": {},
   "outputs": [],
   "source": [
    "import sklearn\n",
    "from sklearn.model_selection import train_test_split\n",
    "from sklearn.metrics import classification_report, precision_score, recall_score, roc_auc_score, accuracy_score, f1_score, confusion_matrix\n",
    "\n",
    "import numpy as np\n",
    "import pandas as pd\n",
    "import matplotlib.pyplot as plt\n",
    "import seaborn as sns\n",
    "\n",
    "import time\n",
    "import pickle"
   ]
  },
  {
   "cell_type": "markdown",
   "id": "ac7a4830-a0de-45b5-ab8e-28bd6e17a76e",
   "metadata": {},
   "source": [
    "## 데이터 불러오기\n",
    "- TIM-Net을 통해 추출한 감정 결과 csv를 df로 불러옴"
   ]
  },
  {
   "cell_type": "code",
   "execution_count": 2,
   "id": "fc8b331d-5452-45bc-829b-901e8d366282",
   "metadata": {},
   "outputs": [
    {
     "name": "stdout",
     "output_type": "stream",
     "text": [
      "(1354, 9) (12461, 8)\n"
     ]
    }
   ],
   "source": [
    "labeled_df = pd.read_csv(\"./data/labeled.csv\", index_col=0)\n",
    "unlabeled_df = pd.read_csv(\"./data/emotion_un-labeled_ETRI.csv\", index_col=0)\n",
    "\n",
    "print(labeled_df.shape, unlabeled_df.shape)"
   ]
  },
  {
   "cell_type": "markdown",
   "id": "d9e0bd52-4e5a-482d-9909-a0cf41506340",
   "metadata": {},
   "source": [
    "## 데이터 전처리"
   ]
  },
  {
   "cell_type": "code",
   "execution_count": 3,
   "id": "41081d90-4842-4509-a94b-41e76352bd36",
   "metadata": {},
   "outputs": [
    {
     "name": "stdout",
     "output_type": "stream",
     "text": [
      "(1354, 7) (1354,)\n"
     ]
    }
   ],
   "source": [
    "X= labeled_df.iloc[:,2:]\n",
    "y = labeled_df.iloc[:,0]\n",
    "\n",
    "print(X.shape, y.shape)"
   ]
  },
  {
   "cell_type": "code",
   "execution_count": 4,
   "id": "25902541-1586-4fe4-ba1c-c6e9b5674936",
   "metadata": {},
   "outputs": [
    {
     "name": "stdout",
     "output_type": "stream",
     "text": [
      "(1083, 7) (1083,)\n",
      "(271, 7) (271,)\n"
     ]
    }
   ],
   "source": [
    "X_train, X_test, y_train, y_test = train_test_split(X, y, test_size=0.2, random_state=2023, stratify=y)\n",
    "\n",
    "print(X_train.shape, y_train.shape)\n",
    "print(X_test.shape, y_test.shape)"
   ]
  },
  {
   "cell_type": "code",
   "execution_count": 5,
   "id": "89eb10dc-36a4-4d46-9ca1-62999cddcaf7",
   "metadata": {},
   "outputs": [
    {
     "name": "stdout",
     "output_type": "stream",
     "text": [
      "(12461, 7)\n"
     ]
    }
   ],
   "source": [
    "X_train_label = X_train\n",
    "y_train_label = y_train\n",
    "X_test_label = X_test\n",
    "y_test_label = y_test\n",
    "without_label = unlabeled_df.iloc[:,1:]\n",
    "\n",
    "print(without_label.shape)"
   ]
  },
  {
   "cell_type": "markdown",
   "id": "4a7ac735-d3dc-4101-bb8c-12ecb3084120",
   "metadata": {},
   "source": [
    "## Semi-Supervised Model 학습\n",
    "- 이전 코드를 통해 선정된 최고 성능의 binary classifier & parameters \n",
    "- RandomForest(default parameters)"
   ]
  },
  {
   "cell_type": "code",
   "execution_count": 6,
   "id": "c582aa7c-30c9-4c28-ab7d-bdd51a0b47ae",
   "metadata": {},
   "outputs": [],
   "source": [
    "# cycle마다 성능 개선 단계를 파악하기 위한 함수\n",
    "def evaluation(y_true,y_pred):\n",
    "    print(\"Accuracy: {:.2f}\".format(accuracy_score(y_true,y_pred)))\n",
    "    print(\"Precision: {:.2f}\".format(precision_score(y_true,y_pred)))\n",
    "    print(\"Recall: {:.2f}\".format(recall_score(y_true,y_pred)))\n",
    "    print(\"f1-score: {:.2f}\".format(f1_score(y_true,y_pred)))\n",
    "    print(\"ROC_AUC: {:.2f}\".format(roc_auc_score(y_true,y_pred)))\n",
    "    print(confusion_matrix(y_true,y_pred))"
   ]
  },
  {
   "cell_type": "code",
   "execution_count": 7,
   "id": "9bc73426-339d-4a61-8d8d-a2aa9bc724ce",
   "metadata": {},
   "outputs": [],
   "source": [
    "# confidence\n",
    "# RandomForestClassifier 결과는 [0] : 0일 확률, [1] : 1일 확률 이므로\n",
    "# 둘 중 더 큰 값으로 predict하며, 해당 값이 confidence 값이 된다.\n",
    "def confidence_prediction(df):\n",
    "    result = []\n",
    "    for i in range(len(df)):\n",
    "        if df[i][0] >= df[i][1]:\n",
    "            result.append(df[i][0])\n",
    "        else:\n",
    "            result.append(df[i][1])\n",
    "    return result    "
   ]
  },
  {
   "cell_type": "code",
   "execution_count": 8,
   "id": "b9aa05c7-fcdb-47ba-b6c3-85cbff037aae",
   "metadata": {},
   "outputs": [],
   "source": [
    "#model에 대한 라이브러리 추가\n",
    "from sklearn.ensemble import RandomForestClassifier"
   ]
  },
  {
   "cell_type": "code",
   "execution_count": 9,
   "id": "4b015981-2054-49ed-af52-4b7675d5047a",
   "metadata": {
    "scrolled": true
   },
   "outputs": [
    {
     "name": "stdout",
     "output_type": "stream",
     "text": [
      "\n",
      "===== 1 cycle =====\n",
      "Accuracy: 0.82\n",
      "Precision: 0.79\n",
      "Recall: 0.88\n",
      "f1-score: 0.83\n",
      "ROC_AUC: 0.82\n",
      "[[103  32]\n",
      " [ 17 119]]\n",
      "Threshold confidence: 1.0\n",
      "\n",
      "===== 2 cycle =====\n"
     ]
    },
    {
     "name": "stderr",
     "output_type": "stream",
     "text": [
      "C:\\Users\\tjdtl\\AppData\\Local\\Temp\\ipykernel_1216\\2626383625.py:32: DataConversionWarning: A column-vector y was passed when a 1d array was expected. Please change the shape of y to (n_samples,), for example using ravel().\n",
      "  model.fit(X_train_label, y_train_label)\n"
     ]
    },
    {
     "name": "stdout",
     "output_type": "stream",
     "text": [
      "Accuracy: 0.80\n",
      "Precision: 0.78\n",
      "Recall: 0.85\n",
      "f1-score: 0.81\n",
      "ROC_AUC: 0.80\n",
      "[[102  33]\n",
      " [ 20 116]]\n",
      "Threshold confidence: 1.0\n",
      "\n",
      "===== 3 cycle =====\n"
     ]
    },
    {
     "name": "stderr",
     "output_type": "stream",
     "text": [
      "C:\\Users\\tjdtl\\AppData\\Local\\Temp\\ipykernel_1216\\2626383625.py:32: DataConversionWarning: A column-vector y was passed when a 1d array was expected. Please change the shape of y to (n_samples,), for example using ravel().\n",
      "  model.fit(X_train_label, y_train_label)\n"
     ]
    },
    {
     "name": "stdout",
     "output_type": "stream",
     "text": [
      "Accuracy: 0.82\n",
      "Precision: 0.79\n",
      "Recall: 0.87\n",
      "f1-score: 0.83\n",
      "ROC_AUC: 0.82\n",
      "[[103  32]\n",
      " [ 18 118]]\n",
      "Threshold confidence: 1.0\n",
      "\n",
      "===== 4 cycle =====\n"
     ]
    },
    {
     "name": "stderr",
     "output_type": "stream",
     "text": [
      "C:\\Users\\tjdtl\\AppData\\Local\\Temp\\ipykernel_1216\\2626383625.py:32: DataConversionWarning: A column-vector y was passed when a 1d array was expected. Please change the shape of y to (n_samples,), for example using ravel().\n",
      "  model.fit(X_train_label, y_train_label)\n"
     ]
    },
    {
     "name": "stdout",
     "output_type": "stream",
     "text": [
      "Accuracy: 0.81\n",
      "Precision: 0.77\n",
      "Recall: 0.88\n",
      "f1-score: 0.82\n",
      "ROC_AUC: 0.81\n",
      "[[100  35]\n",
      " [ 16 120]]\n",
      "Threshold confidence: 1.0\n",
      "\n",
      "===== 5 cycle =====\n"
     ]
    },
    {
     "name": "stderr",
     "output_type": "stream",
     "text": [
      "C:\\Users\\tjdtl\\AppData\\Local\\Temp\\ipykernel_1216\\2626383625.py:32: DataConversionWarning: A column-vector y was passed when a 1d array was expected. Please change the shape of y to (n_samples,), for example using ravel().\n",
      "  model.fit(X_train_label, y_train_label)\n"
     ]
    },
    {
     "name": "stdout",
     "output_type": "stream",
     "text": [
      "Accuracy: 0.81\n",
      "Precision: 0.78\n",
      "Recall: 0.86\n",
      "f1-score: 0.82\n",
      "ROC_AUC: 0.81\n",
      "[[102  33]\n",
      " [ 19 117]]\n",
      "Threshold confidence: 1.0\n",
      "\n",
      "===== 6 cycle =====\n"
     ]
    },
    {
     "name": "stderr",
     "output_type": "stream",
     "text": [
      "C:\\Users\\tjdtl\\AppData\\Local\\Temp\\ipykernel_1216\\2626383625.py:32: DataConversionWarning: A column-vector y was passed when a 1d array was expected. Please change the shape of y to (n_samples,), for example using ravel().\n",
      "  model.fit(X_train_label, y_train_label)\n"
     ]
    },
    {
     "name": "stdout",
     "output_type": "stream",
     "text": [
      "Accuracy: 0.81\n",
      "Precision: 0.77\n",
      "Recall: 0.88\n",
      "f1-score: 0.82\n",
      "ROC_AUC: 0.81\n",
      "[[100  35]\n",
      " [ 16 120]]\n",
      "Threshold confidence: 1.0\n",
      "\n",
      "===== 7 cycle =====\n"
     ]
    },
    {
     "name": "stderr",
     "output_type": "stream",
     "text": [
      "C:\\Users\\tjdtl\\AppData\\Local\\Temp\\ipykernel_1216\\2626383625.py:32: DataConversionWarning: A column-vector y was passed when a 1d array was expected. Please change the shape of y to (n_samples,), for example using ravel().\n",
      "  model.fit(X_train_label, y_train_label)\n"
     ]
    },
    {
     "name": "stdout",
     "output_type": "stream",
     "text": [
      "Accuracy: 0.82\n",
      "Precision: 0.79\n",
      "Recall: 0.87\n",
      "f1-score: 0.83\n",
      "ROC_AUC: 0.82\n",
      "[[103  32]\n",
      " [ 18 118]]\n",
      "Threshold confidence: 1.0\n",
      "\n",
      "===== 8 cycle =====\n"
     ]
    },
    {
     "name": "stderr",
     "output_type": "stream",
     "text": [
      "C:\\Users\\tjdtl\\AppData\\Local\\Temp\\ipykernel_1216\\2626383625.py:32: DataConversionWarning: A column-vector y was passed when a 1d array was expected. Please change the shape of y to (n_samples,), for example using ravel().\n",
      "  model.fit(X_train_label, y_train_label)\n"
     ]
    },
    {
     "name": "stdout",
     "output_type": "stream",
     "text": [
      "Accuracy: 0.81\n",
      "Precision: 0.78\n",
      "Recall: 0.86\n",
      "f1-score: 0.82\n",
      "ROC_AUC: 0.81\n",
      "[[102  33]\n",
      " [ 19 117]]\n",
      "Threshold confidence: 1.0\n",
      "\n",
      "===== 9 cycle =====\n"
     ]
    },
    {
     "name": "stderr",
     "output_type": "stream",
     "text": [
      "C:\\Users\\tjdtl\\AppData\\Local\\Temp\\ipykernel_1216\\2626383625.py:32: DataConversionWarning: A column-vector y was passed when a 1d array was expected. Please change the shape of y to (n_samples,), for example using ravel().\n",
      "  model.fit(X_train_label, y_train_label)\n"
     ]
    },
    {
     "name": "stdout",
     "output_type": "stream",
     "text": [
      "Accuracy: 0.83\n",
      "Precision: 0.80\n",
      "Recall: 0.89\n",
      "f1-score: 0.84\n",
      "ROC_AUC: 0.83\n",
      "[[104  31]\n",
      " [ 15 121]]\n",
      "Threshold confidence: 1.0\n",
      "\n",
      "===== 10 cycle =====\n"
     ]
    },
    {
     "name": "stderr",
     "output_type": "stream",
     "text": [
      "C:\\Users\\tjdtl\\AppData\\Local\\Temp\\ipykernel_1216\\2626383625.py:32: DataConversionWarning: A column-vector y was passed when a 1d array was expected. Please change the shape of y to (n_samples,), for example using ravel().\n",
      "  model.fit(X_train_label, y_train_label)\n"
     ]
    },
    {
     "name": "stdout",
     "output_type": "stream",
     "text": [
      "Accuracy: 0.82\n",
      "Precision: 0.78\n",
      "Recall: 0.88\n",
      "f1-score: 0.83\n",
      "ROC_AUC: 0.82\n",
      "[[101  34]\n",
      " [ 16 120]]\n",
      "Threshold confidence: 1.0\n",
      "\n",
      "===== 11 cycle =====\n"
     ]
    },
    {
     "name": "stderr",
     "output_type": "stream",
     "text": [
      "C:\\Users\\tjdtl\\AppData\\Local\\Temp\\ipykernel_1216\\2626383625.py:32: DataConversionWarning: A column-vector y was passed when a 1d array was expected. Please change the shape of y to (n_samples,), for example using ravel().\n",
      "  model.fit(X_train_label, y_train_label)\n"
     ]
    },
    {
     "name": "stdout",
     "output_type": "stream",
     "text": [
      "Accuracy: 0.82\n",
      "Precision: 0.79\n",
      "Recall: 0.89\n",
      "f1-score: 0.83\n",
      "ROC_AUC: 0.82\n",
      "[[102  33]\n",
      " [ 15 121]]\n",
      "Threshold confidence: 1.0\n",
      "\n",
      "===== 12 cycle =====\n"
     ]
    },
    {
     "name": "stderr",
     "output_type": "stream",
     "text": [
      "C:\\Users\\tjdtl\\AppData\\Local\\Temp\\ipykernel_1216\\2626383625.py:32: DataConversionWarning: A column-vector y was passed when a 1d array was expected. Please change the shape of y to (n_samples,), for example using ravel().\n",
      "  model.fit(X_train_label, y_train_label)\n"
     ]
    },
    {
     "name": "stdout",
     "output_type": "stream",
     "text": [
      "Accuracy: 0.81\n",
      "Precision: 0.78\n",
      "Recall: 0.88\n",
      "f1-score: 0.82\n",
      "ROC_AUC: 0.81\n",
      "[[101  34]\n",
      " [ 17 119]]\n",
      "Threshold confidence: 1.0\n",
      "\n",
      "===== 13 cycle =====\n"
     ]
    },
    {
     "name": "stderr",
     "output_type": "stream",
     "text": [
      "C:\\Users\\tjdtl\\AppData\\Local\\Temp\\ipykernel_1216\\2626383625.py:32: DataConversionWarning: A column-vector y was passed when a 1d array was expected. Please change the shape of y to (n_samples,), for example using ravel().\n",
      "  model.fit(X_train_label, y_train_label)\n"
     ]
    },
    {
     "name": "stdout",
     "output_type": "stream",
     "text": [
      "Accuracy: 0.81\n",
      "Precision: 0.78\n",
      "Recall: 0.88\n",
      "f1-score: 0.82\n",
      "ROC_AUC: 0.81\n",
      "[[101  34]\n",
      " [ 17 119]]\n",
      "Threshold confidence: 1.0\n",
      "\n",
      "===== 14 cycle =====\n"
     ]
    },
    {
     "name": "stderr",
     "output_type": "stream",
     "text": [
      "C:\\Users\\tjdtl\\AppData\\Local\\Temp\\ipykernel_1216\\2626383625.py:32: DataConversionWarning: A column-vector y was passed when a 1d array was expected. Please change the shape of y to (n_samples,), for example using ravel().\n",
      "  model.fit(X_train_label, y_train_label)\n"
     ]
    },
    {
     "name": "stdout",
     "output_type": "stream",
     "text": [
      "Accuracy: 0.82\n",
      "Precision: 0.79\n",
      "Recall: 0.89\n",
      "f1-score: 0.83\n",
      "ROC_AUC: 0.82\n",
      "[[102  33]\n",
      " [ 15 121]]\n",
      "Threshold confidence: 1.0\n",
      "\n",
      "===== 15 cycle =====\n"
     ]
    },
    {
     "name": "stderr",
     "output_type": "stream",
     "text": [
      "C:\\Users\\tjdtl\\AppData\\Local\\Temp\\ipykernel_1216\\2626383625.py:32: DataConversionWarning: A column-vector y was passed when a 1d array was expected. Please change the shape of y to (n_samples,), for example using ravel().\n",
      "  model.fit(X_train_label, y_train_label)\n"
     ]
    },
    {
     "name": "stdout",
     "output_type": "stream",
     "text": [
      "Accuracy: 0.82\n",
      "Precision: 0.78\n",
      "Recall: 0.88\n",
      "f1-score: 0.83\n",
      "ROC_AUC: 0.82\n",
      "[[101  34]\n",
      " [ 16 120]]\n",
      "Threshold confidence: 1.0\n",
      "\n",
      "===== 16 cycle =====\n"
     ]
    },
    {
     "name": "stderr",
     "output_type": "stream",
     "text": [
      "C:\\Users\\tjdtl\\AppData\\Local\\Temp\\ipykernel_1216\\2626383625.py:32: DataConversionWarning: A column-vector y was passed when a 1d array was expected. Please change the shape of y to (n_samples,), for example using ravel().\n",
      "  model.fit(X_train_label, y_train_label)\n"
     ]
    },
    {
     "name": "stdout",
     "output_type": "stream",
     "text": [
      "Accuracy: 0.81\n",
      "Precision: 0.77\n",
      "Recall: 0.88\n",
      "f1-score: 0.82\n",
      "ROC_AUC: 0.81\n",
      "[[100  35]\n",
      " [ 16 120]]\n",
      "Threshold confidence: 0.99\n",
      "\n",
      "===== 17 cycle =====\n"
     ]
    },
    {
     "name": "stderr",
     "output_type": "stream",
     "text": [
      "C:\\Users\\tjdtl\\AppData\\Local\\Temp\\ipykernel_1216\\2626383625.py:32: DataConversionWarning: A column-vector y was passed when a 1d array was expected. Please change the shape of y to (n_samples,), for example using ravel().\n",
      "  model.fit(X_train_label, y_train_label)\n"
     ]
    },
    {
     "name": "stdout",
     "output_type": "stream",
     "text": [
      "Accuracy: 0.82\n",
      "Precision: 0.78\n",
      "Recall: 0.90\n",
      "f1-score: 0.83\n",
      "ROC_AUC: 0.82\n",
      "[[100  35]\n",
      " [ 14 122]]\n",
      "Threshold confidence: 0.96\n",
      "\n",
      "===== 18 cycle =====\n"
     ]
    },
    {
     "name": "stderr",
     "output_type": "stream",
     "text": [
      "C:\\Users\\tjdtl\\AppData\\Local\\Temp\\ipykernel_1216\\2626383625.py:32: DataConversionWarning: A column-vector y was passed when a 1d array was expected. Please change the shape of y to (n_samples,), for example using ravel().\n",
      "  model.fit(X_train_label, y_train_label)\n"
     ]
    },
    {
     "name": "stdout",
     "output_type": "stream",
     "text": [
      "Accuracy: 0.81\n",
      "Precision: 0.77\n",
      "Recall: 0.89\n",
      "f1-score: 0.83\n",
      "ROC_AUC: 0.81\n",
      "[[ 99  36]\n",
      " [ 15 121]]\n",
      "Threshold confidence: 0.97\n",
      "\n",
      "===== 19 cycle =====\n"
     ]
    },
    {
     "name": "stderr",
     "output_type": "stream",
     "text": [
      "C:\\Users\\tjdtl\\AppData\\Local\\Temp\\ipykernel_1216\\2626383625.py:32: DataConversionWarning: A column-vector y was passed when a 1d array was expected. Please change the shape of y to (n_samples,), for example using ravel().\n",
      "  model.fit(X_train_label, y_train_label)\n"
     ]
    },
    {
     "name": "stdout",
     "output_type": "stream",
     "text": [
      "Accuracy: 0.81\n",
      "Precision: 0.77\n",
      "Recall: 0.88\n",
      "f1-score: 0.82\n",
      "ROC_AUC: 0.81\n",
      "[[100  35]\n",
      " [ 17 119]]\n",
      "Threshold confidence: 0.99\n",
      "\n",
      "===== 20 cycle =====\n"
     ]
    },
    {
     "name": "stderr",
     "output_type": "stream",
     "text": [
      "C:\\Users\\tjdtl\\AppData\\Local\\Temp\\ipykernel_1216\\2626383625.py:32: DataConversionWarning: A column-vector y was passed when a 1d array was expected. Please change the shape of y to (n_samples,), for example using ravel().\n",
      "  model.fit(X_train_label, y_train_label)\n"
     ]
    },
    {
     "name": "stdout",
     "output_type": "stream",
     "text": [
      "Accuracy: 0.82\n",
      "Precision: 0.78\n",
      "Recall: 0.89\n",
      "f1-score: 0.83\n",
      "ROC_AUC: 0.82\n",
      "[[101  34]\n",
      " [ 15 121]]\n",
      "Threshold confidence: 1.0\n",
      "\n",
      "===== 21 cycle =====\n"
     ]
    },
    {
     "name": "stderr",
     "output_type": "stream",
     "text": [
      "C:\\Users\\tjdtl\\AppData\\Local\\Temp\\ipykernel_1216\\2626383625.py:32: DataConversionWarning: A column-vector y was passed when a 1d array was expected. Please change the shape of y to (n_samples,), for example using ravel().\n",
      "  model.fit(X_train_label, y_train_label)\n"
     ]
    },
    {
     "name": "stdout",
     "output_type": "stream",
     "text": [
      "Accuracy: 0.81\n",
      "Precision: 0.77\n",
      "Recall: 0.89\n",
      "f1-score: 0.82\n",
      "ROC_AUC: 0.81\n",
      "[[ 98  37]\n",
      " [ 15 121]]\n",
      "Threshold confidence: 1.0\n",
      "\n",
      "===== 22 cycle =====\n"
     ]
    },
    {
     "name": "stderr",
     "output_type": "stream",
     "text": [
      "C:\\Users\\tjdtl\\AppData\\Local\\Temp\\ipykernel_1216\\2626383625.py:32: DataConversionWarning: A column-vector y was passed when a 1d array was expected. Please change the shape of y to (n_samples,), for example using ravel().\n",
      "  model.fit(X_train_label, y_train_label)\n"
     ]
    },
    {
     "name": "stdout",
     "output_type": "stream",
     "text": [
      "Accuracy: 0.82\n",
      "Precision: 0.79\n",
      "Recall: 0.89\n",
      "f1-score: 0.83\n",
      "ROC_AUC: 0.82\n",
      "[[102  33]\n",
      " [ 15 121]]\n",
      "Threshold confidence: 0.99\n",
      "\n",
      "===== 23 cycle =====\n"
     ]
    },
    {
     "name": "stderr",
     "output_type": "stream",
     "text": [
      "C:\\Users\\tjdtl\\AppData\\Local\\Temp\\ipykernel_1216\\2626383625.py:32: DataConversionWarning: A column-vector y was passed when a 1d array was expected. Please change the shape of y to (n_samples,), for example using ravel().\n",
      "  model.fit(X_train_label, y_train_label)\n"
     ]
    },
    {
     "name": "stdout",
     "output_type": "stream",
     "text": [
      "Accuracy: 0.82\n",
      "Precision: 0.79\n",
      "Recall: 0.89\n",
      "f1-score: 0.83\n",
      "ROC_AUC: 0.82\n",
      "[[102  33]\n",
      " [ 15 121]]\n",
      "Threshold confidence: 0.98\n",
      "\n",
      "===== 24 cycle =====\n"
     ]
    },
    {
     "name": "stderr",
     "output_type": "stream",
     "text": [
      "C:\\Users\\tjdtl\\AppData\\Local\\Temp\\ipykernel_1216\\2626383625.py:32: DataConversionWarning: A column-vector y was passed when a 1d array was expected. Please change the shape of y to (n_samples,), for example using ravel().\n",
      "  model.fit(X_train_label, y_train_label)\n"
     ]
    },
    {
     "name": "stdout",
     "output_type": "stream",
     "text": [
      "Accuracy: 0.81\n",
      "Precision: 0.77\n",
      "Recall: 0.88\n",
      "f1-score: 0.82\n",
      "ROC_AUC: 0.81\n",
      "[[100  35]\n",
      " [ 17 119]]\n",
      "Threshold confidence: 0.99\n",
      "\n",
      "===== 25 cycle =====\n"
     ]
    },
    {
     "name": "stderr",
     "output_type": "stream",
     "text": [
      "C:\\Users\\tjdtl\\AppData\\Local\\Temp\\ipykernel_1216\\2626383625.py:32: DataConversionWarning: A column-vector y was passed when a 1d array was expected. Please change the shape of y to (n_samples,), for example using ravel().\n",
      "  model.fit(X_train_label, y_train_label)\n"
     ]
    },
    {
     "name": "stdout",
     "output_type": "stream",
     "text": [
      "Accuracy: 0.82\n",
      "Precision: 0.78\n",
      "Recall: 0.88\n",
      "f1-score: 0.83\n",
      "ROC_AUC: 0.82\n",
      "[[102  33]\n",
      " [ 16 120]]\n",
      "Threshold confidence: 0.98\n",
      "\n",
      "===== 26 cycle =====\n"
     ]
    },
    {
     "name": "stderr",
     "output_type": "stream",
     "text": [
      "C:\\Users\\tjdtl\\AppData\\Local\\Temp\\ipykernel_1216\\2626383625.py:32: DataConversionWarning: A column-vector y was passed when a 1d array was expected. Please change the shape of y to (n_samples,), for example using ravel().\n",
      "  model.fit(X_train_label, y_train_label)\n"
     ]
    },
    {
     "name": "stdout",
     "output_type": "stream",
     "text": [
      "Accuracy: 0.80\n",
      "Precision: 0.77\n",
      "Recall: 0.86\n",
      "f1-score: 0.82\n",
      "ROC_AUC: 0.80\n",
      "[[101  34]\n",
      " [ 19 117]]\n",
      "Threshold confidence: 0.98\n",
      "\n",
      "===== 27 cycle =====\n"
     ]
    },
    {
     "name": "stderr",
     "output_type": "stream",
     "text": [
      "C:\\Users\\tjdtl\\AppData\\Local\\Temp\\ipykernel_1216\\2626383625.py:32: DataConversionWarning: A column-vector y was passed when a 1d array was expected. Please change the shape of y to (n_samples,), for example using ravel().\n",
      "  model.fit(X_train_label, y_train_label)\n"
     ]
    },
    {
     "name": "stdout",
     "output_type": "stream",
     "text": [
      "Accuracy: 0.83\n",
      "Precision: 0.79\n",
      "Recall: 0.90\n",
      "f1-score: 0.84\n",
      "ROC_AUC: 0.83\n",
      "[[103  32]\n",
      " [ 14 122]]\n",
      "Threshold confidence: 0.98\n",
      "\n",
      "===== 28 cycle =====\n"
     ]
    },
    {
     "name": "stderr",
     "output_type": "stream",
     "text": [
      "C:\\Users\\tjdtl\\AppData\\Local\\Temp\\ipykernel_1216\\2626383625.py:32: DataConversionWarning: A column-vector y was passed when a 1d array was expected. Please change the shape of y to (n_samples,), for example using ravel().\n",
      "  model.fit(X_train_label, y_train_label)\n"
     ]
    },
    {
     "name": "stdout",
     "output_type": "stream",
     "text": [
      "Accuracy: 0.81\n",
      "Precision: 0.77\n",
      "Recall: 0.88\n",
      "f1-score: 0.82\n",
      "ROC_AUC: 0.81\n",
      "[[100  35]\n",
      " [ 16 120]]\n",
      "Threshold confidence: 0.98\n",
      "\n",
      "===== 29 cycle =====\n"
     ]
    },
    {
     "name": "stderr",
     "output_type": "stream",
     "text": [
      "C:\\Users\\tjdtl\\AppData\\Local\\Temp\\ipykernel_1216\\2626383625.py:32: DataConversionWarning: A column-vector y was passed when a 1d array was expected. Please change the shape of y to (n_samples,), for example using ravel().\n",
      "  model.fit(X_train_label, y_train_label)\n"
     ]
    },
    {
     "name": "stdout",
     "output_type": "stream",
     "text": [
      "Accuracy: 0.81\n",
      "Precision: 0.77\n",
      "Recall: 0.88\n",
      "f1-score: 0.82\n",
      "ROC_AUC: 0.81\n",
      "[[100  35]\n",
      " [ 16 120]]\n",
      "Threshold confidence: 0.97\n",
      "\n",
      "===== 30 cycle =====\n"
     ]
    },
    {
     "name": "stderr",
     "output_type": "stream",
     "text": [
      "C:\\Users\\tjdtl\\AppData\\Local\\Temp\\ipykernel_1216\\2626383625.py:32: DataConversionWarning: A column-vector y was passed when a 1d array was expected. Please change the shape of y to (n_samples,), for example using ravel().\n",
      "  model.fit(X_train_label, y_train_label)\n"
     ]
    },
    {
     "name": "stdout",
     "output_type": "stream",
     "text": [
      "Accuracy: 0.80\n",
      "Precision: 0.77\n",
      "Recall: 0.88\n",
      "f1-score: 0.82\n",
      "ROC_AUC: 0.80\n",
      "[[ 99  36]\n",
      " [ 17 119]]\n",
      "Threshold confidence: 0.96\n",
      "\n",
      "===== 31 cycle =====\n"
     ]
    },
    {
     "name": "stderr",
     "output_type": "stream",
     "text": [
      "C:\\Users\\tjdtl\\AppData\\Local\\Temp\\ipykernel_1216\\2626383625.py:32: DataConversionWarning: A column-vector y was passed when a 1d array was expected. Please change the shape of y to (n_samples,), for example using ravel().\n",
      "  model.fit(X_train_label, y_train_label)\n"
     ]
    },
    {
     "name": "stdout",
     "output_type": "stream",
     "text": [
      "Accuracy: 0.82\n",
      "Precision: 0.78\n",
      "Recall: 0.90\n",
      "f1-score: 0.84\n",
      "ROC_AUC: 0.82\n",
      "[[100  35]\n",
      " [ 13 123]]\n",
      "Threshold confidence: 0.98\n",
      "\n",
      "===== 32 cycle =====\n"
     ]
    },
    {
     "name": "stderr",
     "output_type": "stream",
     "text": [
      "C:\\Users\\tjdtl\\AppData\\Local\\Temp\\ipykernel_1216\\2626383625.py:32: DataConversionWarning: A column-vector y was passed when a 1d array was expected. Please change the shape of y to (n_samples,), for example using ravel().\n",
      "  model.fit(X_train_label, y_train_label)\n"
     ]
    },
    {
     "name": "stdout",
     "output_type": "stream",
     "text": [
      "Accuracy: 0.82\n",
      "Precision: 0.79\n",
      "Recall: 0.89\n",
      "f1-score: 0.83\n",
      "ROC_AUC: 0.82\n",
      "[[102  33]\n",
      " [ 15 121]]\n",
      "Threshold confidence: 0.97\n",
      "ALL DONE, UNLABELED LEARNING USED: 10040 (80%).\n"
     ]
    }
   ],
   "source": [
    "# Hyperparameters\n",
    "PERCENTAGE = 5          # unlabeled data 중 confidence 상위 5% 데이터를 학습에 사용\n",
    "UNLABELED_USAGE = 80    # unlabeled data 중 80%만 학습에 사용 (낮은 confidence를 가진 데이터는 학습에서 제외)\n",
    "\n",
    "# Define number of total unlabeled data, unused unlabeled data\n",
    "TOTAL_UNLABELED_NUM = without_label.shape[0]      # 전체 unlabeled data 수\n",
    "UNUSING_UNLABELED_NUM = int(TOTAL_UNLABELED_NUM * (100 - UNLABELED_USAGE) * 0.01) # 사용하지 않는 unlabeled data 수\n",
    "\n",
    "# Initialize cycle count, a list to store confidences\n",
    "cycle_cnt = 0\n",
    "conf_list = []\n",
    "finish = False # 반복문 종료 스위치\n",
    "\n",
    "# Main loop for Semi-Supervised Learning\n",
    "while True:\n",
    "    \n",
    "    # Stop Condition 1 : cycle count == 1000\n",
    "    if cycle_cnt == 1000:  # Avoid infinite loop\n",
    "        print(f\"!!! Approach limit {cycle_cnt} !!!\")\n",
    "        finish = True\n",
    "    cycle_cnt += 1\n",
    "    \n",
    "    # Stop Condition 2 : number of left_unlabeled >= number of UNUSING_DATA\n",
    "    if without_label.shape[0] >= UNUSING_UNLABELED_NUM and not finish:\n",
    "        print(f\"\\n===== {cycle_cnt} cycle =====\")\n",
    "        \n",
    "        ### Modify model & parameters ###\n",
    "        model = RandomForestClassifier()\n",
    "        ##################################\n",
    "        \n",
    "        # 1) Training model\n",
    "        model.fit(X_train_label, y_train_label)\n",
    "        y_pred_label = model.predict(X_test_label)\n",
    "        evaluation(y_test_label, y_pred_label)\n",
    "        \n",
    "        # 2) Predictions for unlabeled data\n",
    "        prob = model.predict_proba(without_label)   # [natural일 확률 , un-natural일 확률]\n",
    "        confidence_prob = confidence_prediction(prob)\n",
    "        without_label['confidence'] = confidence_prob\n",
    "        \n",
    "        # 3) Sorting by confidence in descending order\n",
    "        without_label = without_label.sort_values(by=['confidence'], ascending=False)\n",
    "        without_label = without_label.reset_index(drop=True)\n",
    "        \n",
    "        # 4) Replace existing unlabeled_data with confidence bottom 95% of unlabled_data\n",
    "        \n",
    "        ## 4-1) Define cutting_index\n",
    "        cutting_index = int(without_label.shape[0] * (PERCENTAGE * 0.01)) # 남은 unlabeled_data * 5%\n",
    "        one_cycle_last_conf = without_label['confidence'][cutting_index]\n",
    "        conf_list.append(one_cycle_last_conf)\n",
    "        print(f\"Threshold confidence: {without_label['confidence'][cutting_index]}\")\n",
    "        \n",
    "        ## 4-2) Divide into chosen & notchosen\n",
    "        \n",
    "        ### 4-2-1) Define chosen_without_label & pseudo_label\n",
    "        chosen_without_label = without_label.iloc[:cutting_index, :]\n",
    "        chosen_without_label = chosen_without_label.drop(columns={'confidence'})\n",
    "        pseudo_label = pd.DataFrame(model.predict(chosen_without_label))\n",
    "        \n",
    "        ### 4-2-2) Define notchosen_without_label\n",
    "        notchosen_without_label = without_label.iloc[cutting_index:, :]\n",
    "        notchosen_without_label = notchosen_without_label.drop(columns={'confidence'})\n",
    "        \n",
    "        ## 4-3) Replace without_lable with notchosen_without_label\n",
    "        without_label = notchosen_without_label\n",
    "        \n",
    "        # 5) Merge labeled_data with unlabeled_data (top 5%)\n",
    "        X_train_label = pd.concat([X_train_label, chosen_without_label]) # X : labeled_data에 top 5% unlabeled_data를 merge\n",
    "        y_train_label = pd.concat([y_train_label, pseudo_label])         # y : labeled_data에 y_pred를 merge\n",
    "        \n",
    "        \n",
    "    # Finish semi-supervised learning    \n",
    "    else:\n",
    "        # 전체 사용한 데이터 개수 출력\n",
    "        using_unlabeled = TOTAL_UNLABELED_NUM - without_label.shape[0]\n",
    "        print(f\"ALL DONE, UNLABELED LEARNING USED: {using_unlabeled} ({(100 * using_unlabeled) // TOTAL_UNLABELED_NUM}%).\")\n",
    "        break"
   ]
  },
  {
   "cell_type": "markdown",
   "id": "89eeffee-c302-429b-aa03-d724e417fed8",
   "metadata": {},
   "source": [
    "#### Confidence information"
   ]
  },
  {
   "cell_type": "code",
   "execution_count": 10,
   "id": "6574ec9e",
   "metadata": {},
   "outputs": [
    {
     "data": {
      "text/plain": [
       "0.9896875"
      ]
     },
     "execution_count": 10,
     "metadata": {},
     "output_type": "execute_result"
    }
   ],
   "source": [
    "np.mean(conf_list)"
   ]
  },
  {
   "cell_type": "code",
   "execution_count": 11,
   "id": "8f680acf-3f99-47dd-a7bf-be2e49fd27a0",
   "metadata": {},
   "outputs": [
    {
     "name": "stdout",
     "output_type": "stream",
     "text": [
      "0.96\n",
      "1.0\n"
     ]
    }
   ],
   "source": [
    "print(np.min(conf_list))\n",
    "print(np.max(conf_list))"
   ]
  },
  {
   "cell_type": "markdown",
   "id": "68c52d0f-34a8-43f7-8a1a-87b8d51ca6d2",
   "metadata": {},
   "source": [
    "#### 모델 저장(백업)"
   ]
  },
  {
   "cell_type": "code",
   "execution_count": 12,
   "id": "5130f513-ae8a-491b-a1a8-a9d5453cb914",
   "metadata": {},
   "outputs": [],
   "source": [
    "with open('SEMI_SUPERVISED_LEARNING_RF.pkl', 'wb') as f:\n",
    "    pickle.dump(model, f)"
   ]
  },
  {
   "cell_type": "markdown",
   "id": "1cdaa5f9",
   "metadata": {},
   "source": [
    "## 예측 및 평가"
   ]
  },
  {
   "cell_type": "code",
   "execution_count": 13,
   "id": "ac3a3ba4",
   "metadata": {
    "scrolled": true
   },
   "outputs": [
    {
     "name": "stdout",
     "output_type": "stream",
     "text": [
      "y_test :  572    1.0\n",
      "276    0.0\n",
      "303    1.0\n",
      "109    1.0\n",
      "177    0.0\n",
      "      ... \n",
      "145    0.0\n",
      "290    0.0\n",
      "159    0.0\n",
      "526    1.0\n",
      "587    1.0\n",
      "Name: label, Length: 271, dtype: float64\n",
      "y_pred :  [1. 0. 1. 1. 1. 0. 0. 1. 0. 0. 0. 1. 0. 1. 0. 0. 0. 1. 1. 0. 1. 1. 0. 0.\n",
      " 1. 0. 1. 1. 1. 0. 1. 0. 1. 1. 1. 0. 1. 1. 1. 0. 0. 1. 0. 1. 0. 0. 1. 1.\n",
      " 1. 0. 0. 1. 0. 1. 0. 1. 0. 1. 1. 1. 0. 0. 1. 1. 1. 1. 0. 0. 0. 1. 1. 1.\n",
      " 1. 0. 0. 1. 1. 0. 1. 0. 0. 0. 1. 1. 0. 0. 1. 1. 1. 1. 1. 1. 1. 0. 0. 1.\n",
      " 0. 0. 1. 1. 1. 1. 0. 1. 1. 1. 1. 1. 1. 0. 0. 0. 1. 0. 0. 0. 1. 1. 0. 0.\n",
      " 1. 0. 1. 1. 1. 1. 1. 0. 1. 1. 0. 1. 1. 0. 0. 0. 0. 0. 1. 1. 0. 0. 1. 0.\n",
      " 0. 0. 1. 0. 1. 0. 1. 0. 1. 1. 1. 1. 1. 1. 1. 0. 1. 1. 0. 1. 1. 1. 0. 1.\n",
      " 1. 0. 1. 1. 0. 1. 0. 1. 1. 1. 1. 1. 0. 0. 1. 1. 0. 1. 0. 0. 0. 0. 0. 0.\n",
      " 0. 0. 0. 0. 1. 1. 1. 1. 0. 1. 1. 0. 0. 1. 0. 1. 0. 1. 1. 0. 1. 1. 0. 0.\n",
      " 1. 1. 1. 1. 1. 1. 0. 1. 1. 0. 0. 0. 1. 1. 1. 1. 0. 0. 1. 1. 1. 1. 0. 1.\n",
      " 0. 1. 1. 0. 0. 0. 1. 1. 0. 0. 1. 0. 0. 1. 0. 0. 0. 1. 1. 1. 1. 1. 1. 0.\n",
      " 1. 1. 0. 0. 1. 1. 1.]\n"
     ]
    }
   ],
   "source": [
    "y_pred = model.predict(X_test_label)\n",
    "\n",
    "print(\"y_test : \", y_test_label)\n",
    "print(\"y_pred : \", y_pred)"
   ]
  },
  {
   "cell_type": "code",
   "execution_count": 14,
   "id": "2966bc00",
   "metadata": {},
   "outputs": [],
   "source": [
    "def print_score(y_test, y_pred):\n",
    "    # 각각의 평가 지표 계산\n",
    "    acc = accuracy_score(y_test, y_pred)\n",
    "    prec = precision_score(y_test, y_pred)\n",
    "    rec = recall_score(y_test, y_pred)\n",
    "    f1 = f1_score(y_test, y_pred)\n",
    "\n",
    "    # 결과 출력\n",
    "    print(\"Accuracy:\", acc)\n",
    "    print(\"Precision:\", prec)\n",
    "    print(\"Recall:\", rec)\n",
    "    print(\"F1-score:\", f1)"
   ]
  },
  {
   "cell_type": "code",
   "execution_count": 15,
   "id": "ee80feb1",
   "metadata": {},
   "outputs": [
    {
     "name": "stdout",
     "output_type": "stream",
     "text": [
      "RandomForest Classifier\n",
      "Accuracy: 0.82\n",
      "Precision: 0.79\n",
      "Recall: 0.89\n",
      "f1-score: 0.83\n",
      "ROC_AUC: 0.82\n",
      "[[102  33]\n",
      " [ 15 121]]\n"
     ]
    }
   ],
   "source": [
    "print(\"RandomForest Classifier\")\n",
    "evaluation(y_test_label,y_pred)"
   ]
  },
  {
   "cell_type": "code",
   "execution_count": 16,
   "id": "91f25d1d",
   "metadata": {},
   "outputs": [],
   "source": [
    "def make_confusion_matrix(model_name, y_test, y_pred):\n",
    "    cfm = confusion_matrix(y_test, y_pred)\n",
    "    sns.heatmap(cfm, annot=True, cbar=False)\n",
    "    plt.title(model_name)\n",
    "    plt.ylabel('Actual Class')\n",
    "    plt.xlabel('Predict Class')\n",
    "    plt.show()"
   ]
  },
  {
   "cell_type": "code",
   "execution_count": 17,
   "id": "d2f3071b",
   "metadata": {},
   "outputs": [
    {
     "data": {
      "image/png": "[encoded data removed]",
      "text/plain": [
       "<Figure size 640x480 with 1 Axes>"
      ]
     },
     "metadata": {},
     "output_type": "display_data"
    }
   ],
   "source": [
    "make_confusion_matrix(\"Random Forest\", y_test_label, y_pred)"
   ]
  }
 ],
 "metadata": {
  "kernelspec": {
   "display_name": "Python 3 (ipykernel)",
   "language": "python",
   "name": "python3"
  },
  "language_info": {
   "codemirror_mode": {
    "name": "ipython",
    "version": 3
   },
   "file_extension": ".py",
   "mimetype": "text/x-python",
   "name": "python",
   "nbconvert_exporter": "python",
   "pygments_lexer": "ipython3",
   "version": "3.10.9"
  }
 },
 "nbformat": 4,
 "nbformat_minor": 5
}

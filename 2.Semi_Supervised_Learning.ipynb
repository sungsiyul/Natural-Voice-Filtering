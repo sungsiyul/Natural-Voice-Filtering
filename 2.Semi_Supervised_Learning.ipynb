{
 "cells": [
  {
   "cell_type": "markdown",
   "id": "07ac5044-c9ad-4a92-934c-295b2ecf75bf",
   "metadata": {},
   "source": [
    "# Semi-Supervised Learning"
   ]
  },
  {
   "cell_type": "markdown",
   "id": "15acd076-f322-458c-9b08-bb2ada31a97d",
   "metadata": {},
   "source": [
    "## 필수 라이브러리 import"
   ]
  },
  {
   "cell_type": "code",
   "execution_count": 1,
   "id": "468408c5-e321-4412-88dd-76ee615e9a50",
   "metadata": {},
   "outputs": [],
   "source": [
    "import numpy as np\n",
    "import pandas as pd\n",
    "import matplotlib.pyplot as plt\n",
    "import sklearn\n",
    "from sklearn.model_selection import train_test_split, StratifiedShuffleSplit\n",
    "from sklearn.metrics import classification_report, precision_score, recall_score, roc_auc_score, accuracy_score,f1_score\n",
    "import seaborn as sns"
   ]
  },
  {
   "cell_type": "markdown",
   "id": "ac7a4830-a0de-45b5-ab8e-28bd6e17a76e",
   "metadata": {},
   "source": [
    "## 데이터 불러오기\n",
    "- natural-classifier를 통해 전처리된 csv를 df로 불러옴"
   ]
  },
  {
   "cell_type": "code",
   "execution_count": 2,
   "id": "fc8b331d-5452-45bc-829b-901e8d366282",
   "metadata": {},
   "outputs": [
    {
     "name": "stdout",
     "output_type": "stream",
     "text": [
      "(1354, 9) (12461, 8)\n"
     ]
    }
   ],
   "source": [
    "labeled_df = pd.read_csv(\"./data/labeled.csv\", index_col=0)\n",
    "unlabeled_df = pd.read_csv(\"./data/emotion_un-labeled_ETRI.csv\", index_col=0)\n",
    "\n",
    "print(labeled_df.shape, unlabeled_df.shape)"
   ]
  },
  {
   "cell_type": "markdown",
   "id": "d9e0bd52-4e5a-482d-9909-a0cf41506340",
   "metadata": {},
   "source": [
    "## 데이터 전처리"
   ]
  },
  {
   "cell_type": "code",
   "execution_count": 3,
   "id": "41081d90-4842-4509-a94b-41e76352bd36",
   "metadata": {},
   "outputs": [
    {
     "name": "stdout",
     "output_type": "stream",
     "text": [
      "(1354, 7) (1354,)\n"
     ]
    }
   ],
   "source": [
    "X= labeled_df.iloc[:,2:]\n",
    "y = labeled_df.iloc[:,0]\n",
    "\n",
    "print(X.shape, y.shape)"
   ]
  },
  {
   "cell_type": "code",
   "execution_count": 4,
   "id": "25902541-1586-4fe4-ba1c-c6e9b5674936",
   "metadata": {},
   "outputs": [
    {
     "name": "stdout",
     "output_type": "stream",
     "text": [
      "(1083, 7) (1083,)\n",
      "(271, 7) (271,)\n"
     ]
    }
   ],
   "source": [
    "from sklearn.model_selection import train_test_split\n",
    "\n",
    "X_train, X_test, y_train, y_test = train_test_split(X, y, test_size=0.2, random_state=2023, stratify=y)\n",
    "\n",
    "print(X_train.shape, y_train.shape)\n",
    "print(X_test.shape, y_test.shape)"
   ]
  },
  {
   "cell_type": "code",
   "execution_count": 5,
   "id": "89eb10dc-36a4-4d46-9ca1-62999cddcaf7",
   "metadata": {},
   "outputs": [
    {
     "name": "stdout",
     "output_type": "stream",
     "text": [
      "(12461, 7)\n"
     ]
    }
   ],
   "source": [
    "X_train_label = X_train\n",
    "y_train_label = y_train\n",
    "X_test_label = X_test\n",
    "y_test_label = y_test\n",
    "without_label = unlabeled_df.iloc[:,1:]\n",
    "\n",
    "print(without_label.shape)"
   ]
  },
  {
   "cell_type": "markdown",
   "id": "4a7ac735-d3dc-4101-bb8c-12ecb3084120",
   "metadata": {},
   "source": [
    "## Semi-Supervised Model 학습\n",
    "- 이전 코드를 통해 선정된 최고 성능의 binary classifier & parameters "
   ]
  },
  {
   "cell_type": "code",
   "execution_count": 6,
   "id": "c582aa7c-30c9-4c28-ab7d-bdd51a0b47ae",
   "metadata": {},
   "outputs": [],
   "source": [
    "from sklearn.metrics import classification_report, precision_score, recall_score, roc_auc_score, accuracy_score, f1_score, confusion_matrix\n",
    "\n",
    "def evaluation(y_true,y_pred):\n",
    "    print(\"Accuracy: {:.2f}\".format(accuracy_score(y_true,y_pred)))\n",
    "    print(\"Precision: {:.2f}\".format(precision_score(y_true,y_pred)))\n",
    "    print(\"Recall: {:.2f}\".format(recall_score(y_true,y_pred)))\n",
    "    print(roc_auc_score(y_true,y_pred))\n",
    "    print(f1_score(y_true,y_pred))\n",
    "    print(confusion_matrix(y_true,y_pred))"
   ]
  },
  {
   "cell_type": "code",
   "execution_count": 7,
   "id": "9bc73426-339d-4a61-8d8d-a2aa9bc724ce",
   "metadata": {},
   "outputs": [],
   "source": [
    "def confident_prediction(df):\n",
    "    result = []\n",
    "\n",
    "    for i in range(len(df)):\n",
    "        if df[i][0] >= df[i][1]:\n",
    "            result.append(df[i][0])\n",
    "        else:\n",
    "            result.append(df[i][1])\n",
    "    return result    "
   ]
  },
  {
   "cell_type": "code",
   "execution_count": 8,
   "id": "b9aa05c7-fcdb-47ba-b6c3-85cbff037aae",
   "metadata": {},
   "outputs": [],
   "source": [
    "#model에 대한 라이브러리 추가\n",
    "from sklearn.ensemble import RandomForestClassifier"
   ]
  },
  {
   "cell_type": "code",
   "execution_count": 24,
   "id": "4b015981-2054-49ed-af52-4b7675d5047a",
   "metadata": {
    "scrolled": true
   },
   "outputs": [
    {
     "name": "stdout",
     "output_type": "stream",
     "text": [
      "\n",
      "===== 1 cycle =====\n",
      "Accuracy: 0.81\n",
      "Precision: 0.78\n",
      "Recall: 0.87\n",
      "0.8078976034858388\n",
      "0.8194444444444444\n",
      "[[101  34]\n",
      " [ 18 118]]\n",
      "threshold confidence : 1.0\n",
      "Accuracy: 0.81\n",
      "Precision: 0.78\n",
      "Recall: 0.87\n",
      "0.8078976034858388\n",
      "0.8194444444444444\n",
      "[[101  34]\n",
      " [ 18 118]]\n",
      "\n",
      "===== 2 cycle =====\n"
     ]
    },
    {
     "name": "stderr",
     "output_type": "stream",
     "text": [
      "C:\\Users\\tjdtl\\AppData\\Local\\Temp\\ipykernel_12836\\2613195746.py:29: DataConversionWarning: A column-vector y was passed when a 1d array was expected. Please change the shape of y to (n_samples,), for example using ravel().\n",
      "  model.fit(X_train_label,y_train_label)\n"
     ]
    },
    {
     "name": "stdout",
     "output_type": "stream",
     "text": [
      "Accuracy: 0.80\n",
      "Precision: 0.77\n",
      "Recall: 0.87\n",
      "0.8041938997821351\n",
      "0.8166089965397925\n",
      "[[100  35]\n",
      " [ 18 118]]\n",
      "threshold confidence : 1.0\n",
      "Accuracy: 0.80\n",
      "Precision: 0.77\n",
      "Recall: 0.87\n",
      "0.8041938997821351\n",
      "0.8166089965397925\n",
      "[[100  35]\n",
      " [ 18 118]]\n",
      "\n",
      "===== 3 cycle =====\n"
     ]
    },
    {
     "name": "stderr",
     "output_type": "stream",
     "text": [
      "C:\\Users\\tjdtl\\AppData\\Local\\Temp\\ipykernel_12836\\2613195746.py:29: DataConversionWarning: A column-vector y was passed when a 1d array was expected. Please change the shape of y to (n_samples,), for example using ravel().\n",
      "  model.fit(X_train_label,y_train_label)\n"
     ]
    },
    {
     "name": "stdout",
     "output_type": "stream",
     "text": [
      "Accuracy: 0.81\n",
      "Precision: 0.77\n",
      "Recall: 0.88\n",
      "0.8078703703703703\n",
      "0.8206896551724138\n",
      "[[100  35]\n",
      " [ 17 119]]\n",
      "threshold confidence : 1.0\n",
      "Accuracy: 0.81\n",
      "Precision: 0.77\n",
      "Recall: 0.88\n",
      "0.8078703703703703\n",
      "0.8206896551724138\n",
      "[[100  35]\n",
      " [ 17 119]]\n",
      "\n",
      "===== 4 cycle =====\n"
     ]
    },
    {
     "name": "stderr",
     "output_type": "stream",
     "text": [
      "C:\\Users\\tjdtl\\AppData\\Local\\Temp\\ipykernel_12836\\2613195746.py:29: DataConversionWarning: A column-vector y was passed when a 1d array was expected. Please change the shape of y to (n_samples,), for example using ravel().\n",
      "  model.fit(X_train_label,y_train_label)\n"
     ]
    },
    {
     "name": "stdout",
     "output_type": "stream",
     "text": [
      "Accuracy: 0.82\n",
      "Precision: 0.78\n",
      "Recall: 0.88\n",
      "0.8152505446623094\n",
      "0.8275862068965517\n",
      "[[101  34]\n",
      " [ 16 120]]\n",
      "threshold confidence : 1.0\n",
      "Accuracy: 0.82\n",
      "Precision: 0.78\n",
      "Recall: 0.88\n",
      "0.8152505446623094\n",
      "0.8275862068965517\n",
      "[[101  34]\n",
      " [ 16 120]]\n",
      "\n",
      "===== 5 cycle =====\n"
     ]
    },
    {
     "name": "stderr",
     "output_type": "stream",
     "text": [
      "C:\\Users\\tjdtl\\AppData\\Local\\Temp\\ipykernel_12836\\2613195746.py:29: DataConversionWarning: A column-vector y was passed when a 1d array was expected. Please change the shape of y to (n_samples,), for example using ravel().\n",
      "  model.fit(X_train_label,y_train_label)\n"
     ]
    },
    {
     "name": "stdout",
     "output_type": "stream",
     "text": [
      "Accuracy: 0.80\n",
      "Precision: 0.77\n",
      "Recall: 0.87\n",
      "0.8041938997821351\n",
      "0.8166089965397925\n",
      "[[100  35]\n",
      " [ 18 118]]\n",
      "threshold confidence : 1.0\n",
      "Accuracy: 0.80\n",
      "Precision: 0.77\n",
      "Recall: 0.87\n",
      "0.8041938997821351\n",
      "0.8166089965397925\n",
      "[[100  35]\n",
      " [ 18 118]]\n",
      "\n",
      "===== 6 cycle =====\n"
     ]
    },
    {
     "name": "stderr",
     "output_type": "stream",
     "text": [
      "C:\\Users\\tjdtl\\AppData\\Local\\Temp\\ipykernel_12836\\2613195746.py:29: DataConversionWarning: A column-vector y was passed when a 1d array was expected. Please change the shape of y to (n_samples,), for example using ravel().\n",
      "  model.fit(X_train_label,y_train_label)\n"
     ]
    },
    {
     "name": "stdout",
     "output_type": "stream",
     "text": [
      "Accuracy: 0.81\n",
      "Precision: 0.78\n",
      "Recall: 0.88\n",
      "0.8115740740740741\n",
      "0.823529411764706\n",
      "[[101  34]\n",
      " [ 17 119]]\n",
      "threshold confidence : 1.0\n",
      "Accuracy: 0.81\n",
      "Precision: 0.78\n",
      "Recall: 0.88\n",
      "0.8115740740740741\n",
      "0.823529411764706\n",
      "[[101  34]\n",
      " [ 17 119]]\n",
      "\n",
      "===== 7 cycle =====\n"
     ]
    },
    {
     "name": "stderr",
     "output_type": "stream",
     "text": [
      "C:\\Users\\tjdtl\\AppData\\Local\\Temp\\ipykernel_12836\\2613195746.py:29: DataConversionWarning: A column-vector y was passed when a 1d array was expected. Please change the shape of y to (n_samples,), for example using ravel().\n",
      "  model.fit(X_train_label,y_train_label)\n"
     ]
    },
    {
     "name": "stdout",
     "output_type": "stream",
     "text": [
      "Accuracy: 0.80\n",
      "Precision: 0.76\n",
      "Recall: 0.88\n",
      "0.8041394335511982\n",
      "0.8191126279863482\n",
      "[[ 98  37]\n",
      " [ 16 120]]\n",
      "threshold confidence : 1.0\n",
      "Accuracy: 0.80\n",
      "Precision: 0.76\n",
      "Recall: 0.88\n",
      "0.8041394335511982\n",
      "0.8191126279863482\n",
      "[[ 98  37]\n",
      " [ 16 120]]\n",
      "\n",
      "===== 8 cycle =====\n"
     ]
    },
    {
     "name": "stderr",
     "output_type": "stream",
     "text": [
      "C:\\Users\\tjdtl\\AppData\\Local\\Temp\\ipykernel_12836\\2613195746.py:29: DataConversionWarning: A column-vector y was passed when a 1d array was expected. Please change the shape of y to (n_samples,), for example using ravel().\n",
      "  model.fit(X_train_label,y_train_label)\n"
     ]
    },
    {
     "name": "stdout",
     "output_type": "stream",
     "text": [
      "Accuracy: 0.80\n",
      "Precision: 0.76\n",
      "Recall: 0.86\n",
      "0.7968137254901961\n",
      "0.8096885813148789\n",
      "[[ 99  36]\n",
      " [ 19 117]]\n",
      "threshold confidence : 1.0\n",
      "Accuracy: 0.80\n",
      "Precision: 0.76\n",
      "Recall: 0.86\n",
      "0.7968137254901961\n",
      "0.8096885813148789\n",
      "[[ 99  36]\n",
      " [ 19 117]]\n",
      "\n",
      "===== 9 cycle =====\n"
     ]
    },
    {
     "name": "stderr",
     "output_type": "stream",
     "text": [
      "C:\\Users\\tjdtl\\AppData\\Local\\Temp\\ipykernel_12836\\2613195746.py:29: DataConversionWarning: A column-vector y was passed when a 1d array was expected. Please change the shape of y to (n_samples,), for example using ravel().\n",
      "  model.fit(X_train_label,y_train_label)\n"
     ]
    },
    {
     "name": "stdout",
     "output_type": "stream",
     "text": [
      "Accuracy: 0.80\n",
      "Precision: 0.76\n",
      "Recall: 0.88\n",
      "0.8004629629629629\n",
      "0.8150684931506849\n",
      "[[ 98  37]\n",
      " [ 17 119]]\n",
      "threshold confidence : 1.0\n",
      "Accuracy: 0.80\n",
      "Precision: 0.76\n",
      "Recall: 0.88\n",
      "0.8004629629629629\n",
      "0.8150684931506849\n",
      "[[ 98  37]\n",
      " [ 17 119]]\n",
      "\n",
      "===== 10 cycle =====\n"
     ]
    },
    {
     "name": "stderr",
     "output_type": "stream",
     "text": [
      "C:\\Users\\tjdtl\\AppData\\Local\\Temp\\ipykernel_12836\\2613195746.py:29: DataConversionWarning: A column-vector y was passed when a 1d array was expected. Please change the shape of y to (n_samples,), for example using ravel().\n",
      "  model.fit(X_train_label,y_train_label)\n"
     ]
    },
    {
     "name": "stdout",
     "output_type": "stream",
     "text": [
      "Accuracy: 0.80\n",
      "Precision: 0.76\n",
      "Recall: 0.88\n",
      "0.8004629629629629\n",
      "0.8150684931506849\n",
      "[[ 98  37]\n",
      " [ 17 119]]\n",
      "threshold confidence : 1.0\n",
      "Accuracy: 0.80\n",
      "Precision: 0.76\n",
      "Recall: 0.88\n",
      "0.8004629629629629\n",
      "0.8150684931506849\n",
      "[[ 98  37]\n",
      " [ 17 119]]\n",
      "\n",
      "===== 11 cycle =====\n"
     ]
    },
    {
     "name": "stderr",
     "output_type": "stream",
     "text": [
      "C:\\Users\\tjdtl\\AppData\\Local\\Temp\\ipykernel_12836\\2613195746.py:29: DataConversionWarning: A column-vector y was passed when a 1d array was expected. Please change the shape of y to (n_samples,), for example using ravel().\n",
      "  model.fit(X_train_label,y_train_label)\n"
     ]
    },
    {
     "name": "stdout",
     "output_type": "stream",
     "text": [
      "Accuracy: 0.81\n",
      "Precision: 0.77\n",
      "Recall: 0.88\n",
      "0.8078703703703703\n",
      "0.8206896551724138\n",
      "[[100  35]\n",
      " [ 17 119]]\n",
      "threshold confidence : 1.0\n",
      "Accuracy: 0.81\n",
      "Precision: 0.77\n",
      "Recall: 0.88\n",
      "0.8078703703703703\n",
      "0.8206896551724138\n",
      "[[100  35]\n",
      " [ 17 119]]\n",
      "\n",
      "===== 12 cycle =====\n"
     ]
    },
    {
     "name": "stderr",
     "output_type": "stream",
     "text": [
      "C:\\Users\\tjdtl\\AppData\\Local\\Temp\\ipykernel_12836\\2613195746.py:29: DataConversionWarning: A column-vector y was passed when a 1d array was expected. Please change the shape of y to (n_samples,), for example using ravel().\n",
      "  model.fit(X_train_label,y_train_label)\n"
     ]
    },
    {
     "name": "stdout",
     "output_type": "stream",
     "text": [
      "Accuracy: 0.83\n",
      "Precision: 0.79\n",
      "Recall: 0.89\n",
      "0.826334422657952\n",
      "0.8373702422145328\n",
      "[[103  32]\n",
      " [ 15 121]]\n",
      "threshold confidence : 1.0\n",
      "Accuracy: 0.83\n",
      "Precision: 0.79\n",
      "Recall: 0.89\n",
      "0.826334422657952\n",
      "0.8373702422145328\n",
      "[[103  32]\n",
      " [ 15 121]]\n",
      "\n",
      "===== 13 cycle =====\n"
     ]
    },
    {
     "name": "stderr",
     "output_type": "stream",
     "text": [
      "C:\\Users\\tjdtl\\AppData\\Local\\Temp\\ipykernel_12836\\2613195746.py:29: DataConversionWarning: A column-vector y was passed when a 1d array was expected. Please change the shape of y to (n_samples,), for example using ravel().\n",
      "  model.fit(X_train_label,y_train_label)\n"
     ]
    },
    {
     "name": "stdout",
     "output_type": "stream",
     "text": [
      "Accuracy: 0.81\n",
      "Precision: 0.78\n",
      "Recall: 0.86\n",
      "0.8079248366013072\n",
      "0.8181818181818182\n",
      "[[102  33]\n",
      " [ 19 117]]\n",
      "threshold confidence : 1.0\n",
      "Accuracy: 0.81\n",
      "Precision: 0.78\n",
      "Recall: 0.86\n",
      "0.8079248366013072\n",
      "0.8181818181818182\n",
      "[[102  33]\n",
      " [ 19 117]]\n",
      "\n",
      "===== 14 cycle =====\n"
     ]
    },
    {
     "name": "stderr",
     "output_type": "stream",
     "text": [
      "C:\\Users\\tjdtl\\AppData\\Local\\Temp\\ipykernel_12836\\2613195746.py:29: DataConversionWarning: A column-vector y was passed when a 1d array was expected. Please change the shape of y to (n_samples,), for example using ravel().\n",
      "  model.fit(X_train_label,y_train_label)\n"
     ]
    },
    {
     "name": "stdout",
     "output_type": "stream",
     "text": [
      "Accuracy: 0.82\n",
      "Precision: 0.78\n",
      "Recall: 0.88\n",
      "0.8152777777777777\n",
      "0.826388888888889\n",
      "[[102  33]\n",
      " [ 17 119]]\n",
      "threshold confidence : 1.0\n",
      "Accuracy: 0.82\n",
      "Precision: 0.78\n",
      "Recall: 0.88\n",
      "0.8152777777777777\n",
      "0.826388888888889\n",
      "[[102  33]\n",
      " [ 17 119]]\n",
      "\n",
      "===== 15 cycle =====\n"
     ]
    },
    {
     "name": "stderr",
     "output_type": "stream",
     "text": [
      "C:\\Users\\tjdtl\\AppData\\Local\\Temp\\ipykernel_12836\\2613195746.py:29: DataConversionWarning: A column-vector y was passed when a 1d array was expected. Please change the shape of y to (n_samples,), for example using ravel().\n",
      "  model.fit(X_train_label,y_train_label)\n"
     ]
    },
    {
     "name": "stdout",
     "output_type": "stream",
     "text": [
      "Accuracy: 0.80\n",
      "Precision: 0.78\n",
      "Recall: 0.85\n",
      "0.8042483660130719\n",
      "0.8140350877192983\n",
      "[[102  33]\n",
      " [ 20 116]]\n",
      "threshold confidence : 0.99\n",
      "Accuracy: 0.80\n",
      "Precision: 0.78\n",
      "Recall: 0.85\n",
      "0.8042483660130719\n",
      "0.8140350877192983\n",
      "[[102  33]\n",
      " [ 20 116]]\n",
      "\n",
      "===== 16 cycle =====\n"
     ]
    },
    {
     "name": "stderr",
     "output_type": "stream",
     "text": [
      "C:\\Users\\tjdtl\\AppData\\Local\\Temp\\ipykernel_12836\\2613195746.py:29: DataConversionWarning: A column-vector y was passed when a 1d array was expected. Please change the shape of y to (n_samples,), for example using ravel().\n",
      "  model.fit(X_train_label,y_train_label)\n"
     ]
    },
    {
     "name": "stdout",
     "output_type": "stream",
     "text": [
      "Accuracy: 0.80\n",
      "Precision: 0.77\n",
      "Recall: 0.87\n",
      "0.8041938997821351\n",
      "0.8166089965397925\n",
      "[[100  35]\n",
      " [ 18 118]]\n",
      "threshold confidence : 0.97\n",
      "Accuracy: 0.80\n",
      "Precision: 0.77\n",
      "Recall: 0.87\n",
      "0.8041938997821351\n",
      "0.8166089965397925\n",
      "[[100  35]\n",
      " [ 18 118]]\n",
      "\n",
      "===== 17 cycle =====\n"
     ]
    },
    {
     "name": "stderr",
     "output_type": "stream",
     "text": [
      "C:\\Users\\tjdtl\\AppData\\Local\\Temp\\ipykernel_12836\\2613195746.py:29: DataConversionWarning: A column-vector y was passed when a 1d array was expected. Please change the shape of y to (n_samples,), for example using ravel().\n",
      "  model.fit(X_train_label,y_train_label)\n"
     ]
    },
    {
     "name": "stdout",
     "output_type": "stream",
     "text": [
      "Accuracy: 0.81\n",
      "Precision: 0.77\n",
      "Recall: 0.88\n",
      "0.8115468409586056\n",
      "0.8247422680412372\n",
      "[[100  35]\n",
      " [ 16 120]]\n",
      "threshold confidence : 0.99\n",
      "Accuracy: 0.81\n",
      "Precision: 0.77\n",
      "Recall: 0.88\n",
      "0.8115468409586056\n",
      "0.8247422680412372\n",
      "[[100  35]\n",
      " [ 16 120]]\n",
      "\n",
      "===== 18 cycle =====\n"
     ]
    },
    {
     "name": "stderr",
     "output_type": "stream",
     "text": [
      "C:\\Users\\tjdtl\\AppData\\Local\\Temp\\ipykernel_12836\\2613195746.py:29: DataConversionWarning: A column-vector y was passed when a 1d array was expected. Please change the shape of y to (n_samples,), for example using ravel().\n",
      "  model.fit(X_train_label,y_train_label)\n"
     ]
    },
    {
     "name": "stdout",
     "output_type": "stream",
     "text": [
      "Accuracy: 0.81\n",
      "Precision: 0.78\n",
      "Recall: 0.87\n",
      "0.8116013071895425\n",
      "0.8222996515679443\n",
      "[[102  33]\n",
      " [ 18 118]]\n",
      "threshold confidence : 0.99\n",
      "Accuracy: 0.81\n",
      "Precision: 0.78\n",
      "Recall: 0.87\n",
      "0.8116013071895425\n",
      "0.8222996515679443\n",
      "[[102  33]\n",
      " [ 18 118]]\n",
      "\n",
      "===== 19 cycle =====\n"
     ]
    },
    {
     "name": "stderr",
     "output_type": "stream",
     "text": [
      "C:\\Users\\tjdtl\\AppData\\Local\\Temp\\ipykernel_12836\\2613195746.py:29: DataConversionWarning: A column-vector y was passed when a 1d array was expected. Please change the shape of y to (n_samples,), for example using ravel().\n",
      "  model.fit(X_train_label,y_train_label)\n"
     ]
    },
    {
     "name": "stdout",
     "output_type": "stream",
     "text": [
      "Accuracy: 0.82\n",
      "Precision: 0.78\n",
      "Recall: 0.88\n",
      "0.8152505446623094\n",
      "0.8275862068965517\n",
      "[[101  34]\n",
      " [ 16 120]]\n",
      "threshold confidence : 0.99\n",
      "Accuracy: 0.82\n",
      "Precision: 0.78\n",
      "Recall: 0.88\n",
      "0.8152505446623094\n",
      "0.8275862068965517\n",
      "[[101  34]\n",
      " [ 16 120]]\n",
      "\n",
      "===== 20 cycle =====\n"
     ]
    },
    {
     "name": "stderr",
     "output_type": "stream",
     "text": [
      "C:\\Users\\tjdtl\\AppData\\Local\\Temp\\ipykernel_12836\\2613195746.py:29: DataConversionWarning: A column-vector y was passed when a 1d array was expected. Please change the shape of y to (n_samples,), for example using ravel().\n",
      "  model.fit(X_train_label,y_train_label)\n"
     ]
    },
    {
     "name": "stdout",
     "output_type": "stream",
     "text": [
      "Accuracy: 0.82\n",
      "Precision: 0.78\n",
      "Recall: 0.88\n",
      "0.8189542483660129\n",
      "0.8304498269896193\n",
      "[[102  33]\n",
      " [ 16 120]]\n",
      "threshold confidence : 1.0\n",
      "Accuracy: 0.82\n",
      "Precision: 0.78\n",
      "Recall: 0.88\n",
      "0.8189542483660129\n",
      "0.8304498269896193\n",
      "[[102  33]\n",
      " [ 16 120]]\n",
      "\n",
      "===== 21 cycle =====\n"
     ]
    },
    {
     "name": "stderr",
     "output_type": "stream",
     "text": [
      "C:\\Users\\tjdtl\\AppData\\Local\\Temp\\ipykernel_12836\\2613195746.py:29: DataConversionWarning: A column-vector y was passed when a 1d array was expected. Please change the shape of y to (n_samples,), for example using ravel().\n",
      "  model.fit(X_train_label,y_train_label)\n"
     ]
    },
    {
     "name": "stdout",
     "output_type": "stream",
     "text": [
      "Accuracy: 0.82\n",
      "Precision: 0.78\n",
      "Recall: 0.89\n",
      "0.8152233115468409\n",
      "0.8287671232876713\n",
      "[[100  35]\n",
      " [ 15 121]]\n",
      "threshold confidence : 0.99\n",
      "Accuracy: 0.82\n",
      "Precision: 0.78\n",
      "Recall: 0.89\n",
      "0.8152233115468409\n",
      "0.8287671232876713\n",
      "[[100  35]\n",
      " [ 15 121]]\n",
      "\n",
      "===== 22 cycle =====\n"
     ]
    },
    {
     "name": "stderr",
     "output_type": "stream",
     "text": [
      "C:\\Users\\tjdtl\\AppData\\Local\\Temp\\ipykernel_12836\\2613195746.py:29: DataConversionWarning: A column-vector y was passed when a 1d array was expected. Please change the shape of y to (n_samples,), for example using ravel().\n",
      "  model.fit(X_train_label,y_train_label)\n"
     ]
    },
    {
     "name": "stdout",
     "output_type": "stream",
     "text": [
      "Accuracy: 0.81\n",
      "Precision: 0.77\n",
      "Recall: 0.88\n",
      "0.8115468409586056\n",
      "0.8247422680412372\n",
      "[[100  35]\n",
      " [ 16 120]]\n",
      "threshold confidence : 0.99\n",
      "Accuracy: 0.81\n",
      "Precision: 0.77\n",
      "Recall: 0.88\n",
      "0.8115468409586056\n",
      "0.8247422680412372\n",
      "[[100  35]\n",
      " [ 16 120]]\n",
      "\n",
      "===== 23 cycle =====\n"
     ]
    },
    {
     "name": "stderr",
     "output_type": "stream",
     "text": [
      "C:\\Users\\tjdtl\\AppData\\Local\\Temp\\ipykernel_12836\\2613195746.py:29: DataConversionWarning: A column-vector y was passed when a 1d array was expected. Please change the shape of y to (n_samples,), for example using ravel().\n",
      "  model.fit(X_train_label,y_train_label)\n"
     ]
    },
    {
     "name": "stdout",
     "output_type": "stream",
     "text": [
      "Accuracy: 0.83\n",
      "Precision: 0.79\n",
      "Recall: 0.90\n",
      "0.8263071895424836\n",
      "0.8384879725085911\n",
      "[[102  33]\n",
      " [ 14 122]]\n",
      "threshold confidence : 0.99\n",
      "Accuracy: 0.83\n",
      "Precision: 0.79\n",
      "Recall: 0.90\n",
      "0.8263071895424836\n",
      "0.8384879725085911\n",
      "[[102  33]\n",
      " [ 14 122]]\n",
      "\n",
      "===== 24 cycle =====\n"
     ]
    },
    {
     "name": "stderr",
     "output_type": "stream",
     "text": [
      "C:\\Users\\tjdtl\\AppData\\Local\\Temp\\ipykernel_12836\\2613195746.py:29: DataConversionWarning: A column-vector y was passed when a 1d array was expected. Please change the shape of y to (n_samples,), for example using ravel().\n",
      "  model.fit(X_train_label,y_train_label)\n"
     ]
    },
    {
     "name": "stdout",
     "output_type": "stream",
     "text": [
      "Accuracy: 0.82\n",
      "Precision: 0.78\n",
      "Recall: 0.88\n",
      "0.8152505446623094\n",
      "0.8275862068965517\n",
      "[[101  34]\n",
      " [ 16 120]]\n",
      "threshold confidence : 0.98\n",
      "Accuracy: 0.82\n",
      "Precision: 0.78\n",
      "Recall: 0.88\n",
      "0.8152505446623094\n",
      "0.8275862068965517\n",
      "[[101  34]\n",
      " [ 16 120]]\n",
      "\n",
      "===== 25 cycle =====\n"
     ]
    },
    {
     "name": "stderr",
     "output_type": "stream",
     "text": [
      "C:\\Users\\tjdtl\\AppData\\Local\\Temp\\ipykernel_12836\\2613195746.py:29: DataConversionWarning: A column-vector y was passed when a 1d array was expected. Please change the shape of y to (n_samples,), for example using ravel().\n",
      "  model.fit(X_train_label,y_train_label)\n"
     ]
    },
    {
     "name": "stdout",
     "output_type": "stream",
     "text": [
      "Accuracy: 0.83\n",
      "Precision: 0.79\n",
      "Recall: 0.88\n",
      "0.8263616557734205\n",
      "0.8362369337979093\n",
      "[[104  31]\n",
      " [ 16 120]]\n",
      "threshold confidence : 0.98\n",
      "Accuracy: 0.83\n",
      "Precision: 0.79\n",
      "Recall: 0.88\n",
      "0.8263616557734205\n",
      "0.8362369337979093\n",
      "[[104  31]\n",
      " [ 16 120]]\n",
      "\n",
      "===== 26 cycle =====\n"
     ]
    },
    {
     "name": "stderr",
     "output_type": "stream",
     "text": [
      "C:\\Users\\tjdtl\\AppData\\Local\\Temp\\ipykernel_12836\\2613195746.py:29: DataConversionWarning: A column-vector y was passed when a 1d array was expected. Please change the shape of y to (n_samples,), for example using ravel().\n",
      "  model.fit(X_train_label,y_train_label)\n"
     ]
    },
    {
     "name": "stdout",
     "output_type": "stream",
     "text": [
      "Accuracy: 0.81\n",
      "Precision: 0.78\n",
      "Recall: 0.87\n",
      "0.8116013071895425\n",
      "0.8222996515679443\n",
      "[[102  33]\n",
      " [ 18 118]]\n",
      "threshold confidence : 0.98\n",
      "Accuracy: 0.81\n",
      "Precision: 0.78\n",
      "Recall: 0.87\n",
      "0.8116013071895425\n",
      "0.8222996515679443\n",
      "[[102  33]\n",
      " [ 18 118]]\n",
      "\n",
      "===== 27 cycle =====\n"
     ]
    },
    {
     "name": "stderr",
     "output_type": "stream",
     "text": [
      "C:\\Users\\tjdtl\\AppData\\Local\\Temp\\ipykernel_12836\\2613195746.py:29: DataConversionWarning: A column-vector y was passed when a 1d array was expected. Please change the shape of y to (n_samples,), for example using ravel().\n",
      "  model.fit(X_train_label,y_train_label)\n"
     ]
    },
    {
     "name": "stdout",
     "output_type": "stream",
     "text": [
      "Accuracy: 0.82\n",
      "Precision: 0.78\n",
      "Recall: 0.89\n",
      "0.8152233115468409\n",
      "0.8287671232876713\n",
      "[[100  35]\n",
      " [ 15 121]]\n",
      "threshold confidence : 0.98\n",
      "Accuracy: 0.82\n",
      "Precision: 0.78\n",
      "Recall: 0.89\n",
      "0.8152233115468409\n",
      "0.8287671232876713\n",
      "[[100  35]\n",
      " [ 15 121]]\n",
      "\n",
      "===== 28 cycle =====\n"
     ]
    },
    {
     "name": "stderr",
     "output_type": "stream",
     "text": [
      "C:\\Users\\tjdtl\\AppData\\Local\\Temp\\ipykernel_12836\\2613195746.py:29: DataConversionWarning: A column-vector y was passed when a 1d array was expected. Please change the shape of y to (n_samples,), for example using ravel().\n",
      "  model.fit(X_train_label,y_train_label)\n"
     ]
    },
    {
     "name": "stdout",
     "output_type": "stream",
     "text": [
      "Accuracy: 0.81\n",
      "Precision: 0.77\n",
      "Recall: 0.89\n",
      "0.8115196078431374\n",
      "0.8259385665529011\n",
      "[[ 99  36]\n",
      " [ 15 121]]\n",
      "threshold confidence : 0.97\n",
      "Accuracy: 0.81\n",
      "Precision: 0.77\n",
      "Recall: 0.89\n",
      "0.8115196078431374\n",
      "0.8259385665529011\n",
      "[[ 99  36]\n",
      " [ 15 121]]\n",
      "\n",
      "===== 29 cycle =====\n"
     ]
    },
    {
     "name": "stderr",
     "output_type": "stream",
     "text": [
      "C:\\Users\\tjdtl\\AppData\\Local\\Temp\\ipykernel_12836\\2613195746.py:29: DataConversionWarning: A column-vector y was passed when a 1d array was expected. Please change the shape of y to (n_samples,), for example using ravel().\n",
      "  model.fit(X_train_label,y_train_label)\n"
     ]
    },
    {
     "name": "stdout",
     "output_type": "stream",
     "text": [
      "Accuracy: 0.82\n",
      "Precision: 0.78\n",
      "Recall: 0.88\n",
      "0.8152505446623094\n",
      "0.8275862068965517\n",
      "[[101  34]\n",
      " [ 16 120]]\n",
      "threshold confidence : 0.97\n",
      "Accuracy: 0.82\n",
      "Precision: 0.78\n",
      "Recall: 0.88\n",
      "0.8152505446623094\n",
      "0.8275862068965517\n",
      "[[101  34]\n",
      " [ 16 120]]\n",
      "\n",
      "===== 30 cycle =====\n"
     ]
    },
    {
     "name": "stderr",
     "output_type": "stream",
     "text": [
      "C:\\Users\\tjdtl\\AppData\\Local\\Temp\\ipykernel_12836\\2613195746.py:29: DataConversionWarning: A column-vector y was passed when a 1d array was expected. Please change the shape of y to (n_samples,), for example using ravel().\n",
      "  model.fit(X_train_label,y_train_label)\n"
     ]
    },
    {
     "name": "stdout",
     "output_type": "stream",
     "text": [
      "Accuracy: 0.82\n",
      "Precision: 0.79\n",
      "Recall: 0.88\n",
      "0.8226579520697167\n",
      "0.8333333333333333\n",
      "[[103  32]\n",
      " [ 16 120]]\n",
      "threshold confidence : 0.98\n",
      "Accuracy: 0.82\n",
      "Precision: 0.79\n",
      "Recall: 0.88\n",
      "0.8226579520697167\n",
      "0.8333333333333333\n",
      "[[103  32]\n",
      " [ 16 120]]\n",
      "\n",
      "===== 31 cycle =====\n"
     ]
    },
    {
     "name": "stderr",
     "output_type": "stream",
     "text": [
      "C:\\Users\\tjdtl\\AppData\\Local\\Temp\\ipykernel_12836\\2613195746.py:29: DataConversionWarning: A column-vector y was passed when a 1d array was expected. Please change the shape of y to (n_samples,), for example using ravel().\n",
      "  model.fit(X_train_label,y_train_label)\n"
     ]
    },
    {
     "name": "stdout",
     "output_type": "stream",
     "text": [
      "Accuracy: 0.82\n",
      "Precision: 0.77\n",
      "Recall: 0.90\n",
      "0.8151960784313727\n",
      "0.8299319727891157\n",
      "[[ 99  36]\n",
      " [ 14 122]]\n",
      "threshold confidence : 0.95\n",
      "Accuracy: 0.82\n",
      "Precision: 0.77\n",
      "Recall: 0.90\n",
      "0.8151960784313727\n",
      "0.8299319727891157\n",
      "[[ 99  36]\n",
      " [ 14 122]]\n",
      "\n",
      "===== 32 cycle =====\n"
     ]
    },
    {
     "name": "stderr",
     "output_type": "stream",
     "text": [
      "C:\\Users\\tjdtl\\AppData\\Local\\Temp\\ipykernel_12836\\2613195746.py:29: DataConversionWarning: A column-vector y was passed when a 1d array was expected. Please change the shape of y to (n_samples,), for example using ravel().\n",
      "  model.fit(X_train_label,y_train_label)\n"
     ]
    },
    {
     "name": "stdout",
     "output_type": "stream",
     "text": [
      "Accuracy: 0.82\n",
      "Precision: 0.78\n",
      "Recall: 0.89\n",
      "0.8189270152505447\n",
      "0.831615120274914\n",
      "[[101  34]\n",
      " [ 15 121]]\n",
      "threshold confidence : 0.95\n",
      "Accuracy: 0.82\n",
      "Precision: 0.78\n",
      "Recall: 0.89\n",
      "0.8189270152505447\n",
      "0.831615120274914\n",
      "[[101  34]\n",
      " [ 15 121]]\n",
      "\n",
      "ALL DONE, UNLABELED LEARNING USED: 10040(80%).\n",
      "AVERAGE CONFIDENCE: 0.98875\n"
     ]
    }
   ],
   "source": [
    "import time\n",
    "# hyper parameters\n",
    "PERCENTAGE = 5\n",
    "UNLABELED_USAGE = 80  #unlabeled 데이터 중 사용할 데이터 %\n",
    "\n",
    "#total_unlabeled는 라벨이 없는 데이터의 총 개수\n",
    "# unlabeled 데이터의 n%만을 사용한다. (진짜 confidence가 낮은 10%는 학습에서 제외하자는 의도)\n",
    "# num_left_unlabeled에는 unlabeled 중에서 준지도 학습이 종료되고 남을 데이터의 개수가 저장됨.\n",
    "total_unlabeled = without_label.shape[0]\n",
    "num_left_unlabeled = int(without_label.shape[0]*(100-UNLABELED_USAGE)*0.01)\n",
    "\n",
    "#Semi-Supervised Learning\n",
    "cycle_cnt = 0\n",
    "conf_list = []\n",
    "finish = False\n",
    "while True:\n",
    "    # 성능 향상없이 무한으로 반복되는 경우를 방지하기 위해 최대 1000번의 cycle수를 제한한다.\n",
    "    if cycle_cnt == 1000:\n",
    "        print(f\"!!! approach limit {cycle_cnt} !!!\")\n",
    "        finish = True\n",
    "    cycle_cnt += 1\n",
    "    # 반복문을 돌며 without_label을 소비하게 되고,\n",
    "    # without_label의 데이터 수가 남기고 싶은 테이터 수보다 작아질 때까지 학습한다.\n",
    "    if without_label.shape[0] >= num_left_unlabeled and finish==False:\n",
    "        print(f\"\\n===== {cycle_cnt} cycle =====\")\n",
    "        ### modify model & parameters ###\n",
    "        model = RandomForestClassifier()\n",
    "        ##################################\n",
    "        model.fit(X_train_label,y_train_label)\n",
    "        y_pred_label = model.predict(X_test_label)\n",
    "        evaluation(y_test_label, y_pred_label)\n",
    "\n",
    "        #unlabeled 데이터에 대한 예측\n",
    "        prob = model.predict_proba(without_label) ##양품인지 불량품인지 예측확률\n",
    "        confident_prob = confident_prediction(prob) #예측확률 값을 대입.\n",
    "        without_label['confidence'] = confident_prob ##새로운 칼럼 생성\n",
    "\n",
    "        #내림차순 정렬\n",
    "        without_label = without_label.sort_values(by=['confidence'],ascending=False) #신뢰도 내림차순 정렬\n",
    "        without_label = without_label.reset_index(drop=True) #index도 다시 정렬\n",
    "        length = without_label.shape[0] #unlabeled 행의 개수\n",
    "        cutting_index = int(length*(PERCENTAGE*0.01)) #남은 unlabeled의 confidence 상위 5%\n",
    "        #해당 과정을 통해 어느정도 신뢰도에서 예측된 값이 라벨링되는지 파악 가능.\n",
    "        one_cycle_last_conf = without_label['confidence'][cutting_index]\n",
    "        conf_list.append(one_cycle_last_conf)\n",
    "        print(f\"threshold confidence : {without_label['confidence'][cutting_index]}\")\n",
    "        chosen_without_label = without_label.iloc[:cutting_index, :] #상위 10%\n",
    "        chosen_without_label = chosen_without_label.drop(columns={'confidence'})\n",
    "        notchosen_without_label = without_label.iloc[cutting_index:, :] #하위 95%\n",
    "        notchosen_without_label = notchosen_without_label.drop(columns={'confidence'})\n",
    "        pseudo_label = pd.DataFrame(model.predict(chosen_without_label)) #상위 5% 데이터를 통한 예측 값을 새로운 df에 저장\n",
    "\n",
    "        # 이 과정은 기존 label 데이터로 학습했을 때, 성능이 80%로 준수했기에 가능한 절차이다.\n",
    "        X_train_label = pd.concat([X_train_label, chosen_without_label])#기존 label의 X에 unlabeled 중 상위 10%의 X를 합침\n",
    "        y_train_label = pd.concat([y_train_label, pseudo_label])        #기존 label에 unlabeled 중 상위 10%의 예측 label을 합침\n",
    "        without_label = notchosen_without_label                       #하위 95%의 데이터는 다시 with_label로 저장되어 semi-supervised learning 진행\n",
    "        y_pred_label = model.predict(X_test_label) \n",
    "        evaluation(y_test_label, y_pred_label)\n",
    "        # time.sleep(1)\n",
    "    else:\n",
    "        print()\n",
    "        #unlabeled data 총 개수 / 남은 데이터 수 = 사용한 데이터 수(%)\n",
    "        using_unlabeled = total_unlabeled-without_label.shape[0]\n",
    "        print(f\"ALL DONE, UNLABELED LEARNING USED: {using_unlabeled}({(100*using_unlabeled)//total_unlabeled}%).\")\n",
    "        print(f\"AVERAGE CONFIDENCE: {np.mean(conf_list)}\")\n",
    "        break\n"
   ]
  },
  {
   "cell_type": "code",
   "execution_count": 25,
   "id": "6574ec9e",
   "metadata": {},
   "outputs": [
    {
     "data": {
      "text/plain": [
       "0.98875"
      ]
     },
     "execution_count": 25,
     "metadata": {},
     "output_type": "execute_result"
    }
   ],
   "source": [
    "np.mean(conf_list)"
   ]
  },
  {
   "cell_type": "markdown",
   "id": "68c52d0f-34a8-43f7-8a1a-87b8d51ca6d2",
   "metadata": {},
   "source": [
    "#### 모델 저장(백업)"
   ]
  },
  {
   "cell_type": "code",
   "execution_count": 31,
   "id": "5130f513-ae8a-491b-a1a8-a9d5453cb914",
   "metadata": {},
   "outputs": [],
   "source": [
    "import pickle\n",
    "\n",
    "with open('SEMI_SUPERVISED_LEARNING_RF.pkl', 'wb') as f:\n",
    "    pickle.dump(model, f)"
   ]
  },
  {
   "cell_type": "markdown",
   "id": "1cdaa5f9",
   "metadata": {},
   "source": [
    "## 예측 및 평가"
   ]
  },
  {
   "cell_type": "code",
   "execution_count": 32,
   "id": "ac3a3ba4",
   "metadata": {
    "scrolled": true
   },
   "outputs": [
    {
     "name": "stdout",
     "output_type": "stream",
     "text": [
      "y_test :  572    1.0\n",
      "276    0.0\n",
      "303    1.0\n",
      "109    1.0\n",
      "177    0.0\n",
      "      ... \n",
      "145    0.0\n",
      "290    0.0\n",
      "159    0.0\n",
      "526    1.0\n",
      "587    1.0\n",
      "Name: label, Length: 271, dtype: float64\n",
      "y_pred :  [1. 1. 1. 1. 1. 0. 0. 1. 0. 0. 0. 1. 0. 1. 0. 0. 0. 1. 1. 0. 1. 1. 0. 0.\n",
      " 1. 0. 1. 1. 1. 0. 0. 0. 1. 1. 1. 0. 1. 1. 1. 0. 0. 1. 0. 1. 0. 0. 1. 1.\n",
      " 1. 0. 0. 1. 0. 1. 0. 1. 0. 1. 1. 1. 0. 0. 1. 1. 1. 1. 0. 0. 0. 1. 1. 1.\n",
      " 1. 0. 0. 1. 1. 0. 1. 0. 0. 0. 1. 1. 0. 0. 1. 1. 1. 1. 1. 1. 1. 0. 1. 1.\n",
      " 0. 0. 1. 1. 1. 1. 0. 1. 1. 1. 1. 0. 1. 0. 0. 0. 1. 0. 0. 0. 1. 1. 0. 0.\n",
      " 1. 0. 1. 1. 1. 1. 1. 0. 1. 1. 0. 1. 1. 0. 0. 0. 0. 0. 1. 1. 0. 0. 1. 0.\n",
      " 0. 0. 1. 0. 1. 0. 1. 0. 1. 1. 1. 1. 1. 1. 1. 1. 1. 1. 0. 1. 1. 1. 0. 1.\n",
      " 1. 0. 1. 1. 0. 1. 0. 1. 1. 1. 1. 1. 0. 0. 1. 1. 0. 1. 0. 1. 0. 0. 0. 1.\n",
      " 0. 0. 0. 0. 0. 1. 1. 1. 0. 0. 1. 0. 0. 1. 0. 1. 0. 1. 1. 0. 1. 1. 0. 0.\n",
      " 1. 0. 1. 1. 1. 0. 0. 1. 1. 0. 0. 0. 1. 1. 1. 1. 0. 1. 1. 1. 1. 1. 0. 1.\n",
      " 0. 1. 1. 0. 0. 0. 1. 1. 0. 0. 1. 0. 0. 1. 0. 1. 0. 1. 1. 1. 1. 1. 1. 0.\n",
      " 1. 1. 0. 0. 1. 1. 1.]\n"
     ]
    }
   ],
   "source": [
    "y_pred = model.predict(X_test_label)\n",
    "\n",
    "print(\"y_test : \", y_test_label)\n",
    "print(\"y_pred : \", y_pred)"
   ]
  },
  {
   "cell_type": "code",
   "execution_count": 33,
   "id": "2966bc00",
   "metadata": {},
   "outputs": [],
   "source": [
    "from sklearn.metrics import accuracy_score, precision_score, recall_score, f1_score\n",
    "\n",
    "def print_score(y_test, y_pred):\n",
    "    # 각각의 평가 지표 계산\n",
    "    acc = accuracy_score(y_test, y_pred)\n",
    "    prec = precision_score(y_test, y_pred)\n",
    "    rec = recall_score(y_test, y_pred)\n",
    "    f1 = f1_score(y_test, y_pred)\n",
    "\n",
    "    # 결과 출력\n",
    "    print(\"Accuracy:\", acc)\n",
    "    print(\"Precision:\", prec)\n",
    "    print(\"Recall:\", rec)\n",
    "    print(\"F1-score:\", f1)"
   ]
  },
  {
   "cell_type": "code",
   "execution_count": 34,
   "id": "ee80feb1",
   "metadata": {},
   "outputs": [
    {
     "name": "stdout",
     "output_type": "stream",
     "text": [
      "RandomForest Classifier\n",
      "Accuracy: 0.8191881918819188\n",
      "Precision: 0.7806451612903226\n",
      "Recall: 0.8897058823529411\n",
      "F1-score: 0.831615120274914\n"
     ]
    }
   ],
   "source": [
    "print(\"RandomForest Classifier\")\n",
    "print_score(y_test_label, y_pred)"
   ]
  },
  {
   "cell_type": "code",
   "execution_count": 9,
   "id": "91f25d1d",
   "metadata": {},
   "outputs": [],
   "source": [
    "from sklearn.metrics import confusion_matrix\n",
    "import seaborn as sns\n",
    "\n",
    "def make_confusion_matrix(model_name, y_test, y_pred):\n",
    "    cfm = confusion_matrix(y_test, y_pred)\n",
    "    sns.heatmap(cfm, annot=True, cbar=False)\n",
    "    plt.title(model_name)\n",
    "    plt.ylabel('Actual Class')\n",
    "    plt.xlabel('Predict Class')\n",
    "    plt.show()"
   ]
  },
  {
   "cell_type": "code",
   "execution_count": 36,
   "id": "d2f3071b",
   "metadata": {},
   "outputs": [
    {
     "data": {
      "image/png": "[encoded data removed]",
      "text/plain": [
       "<Figure size 640x480 with 1 Axes>"
      ]
     },
     "metadata": {},
     "output_type": "display_data"
    }
   ],
   "source": [
    "make_confusion_matrix(\"Random Forest\", y_test_label, y_pred)"
   ]
  }
 ],
 "metadata": {
  "kernelspec": {
   "display_name": "Python 3 (ipykernel)",
   "language": "python",
   "name": "python3"
  },
  "language_info": {
   "codemirror_mode": {
    "name": "ipython",
    "version": 3
   },
   "file_extension": ".py",
   "mimetype": "text/x-python",
   "name": "python",
   "nbconvert_exporter": "python",
   "pygments_lexer": "ipython3",
   "version": "3.10.9"
  }
 },
 "nbformat": 4,
 "nbformat_minor": 5
}

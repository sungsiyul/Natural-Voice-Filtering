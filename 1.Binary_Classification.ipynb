{
 "cells": [
  {
   "cell_type": "markdown",
   "id": "e1a0a4d5-be2d-4612-91d2-b7f9512d9618",
   "metadata": {},
   "source": [
    "# Selection_binary_classification\n",
    "- 음성 데이터에 대한 분류된 감정이 저장된 csv를 활용하여 지도학습을 진행\n",
    "- 성능이 좋은 모델을 선정"
   ]
  },
  {
   "cell_type": "markdown",
   "id": "da06a026-13bf-44a0-a618-f2f87d44ca06",
   "metadata": {},
   "source": [
    "## 필수 라이브러리 import"
   ]
  },
  {
   "cell_type": "code",
   "execution_count": 1,
   "id": "3809717a-f4f9-4692-b5ee-dd71515106fd",
   "metadata": {},
   "outputs": [],
   "source": [
    "import numpy as np\n",
    "import pandas as pd\n",
    "import seaborn as sns\n",
    "import matplotlib.pyplot as plt"
   ]
  },
  {
   "cell_type": "markdown",
   "id": "ce1fc851-d482-41b3-9168-05b61c59f49d",
   "metadata": {},
   "source": [
    "## 데이터 준비"
   ]
  },
  {
   "cell_type": "markdown",
   "id": "0a8aa14b-b7e0-43f2-b047-c215d871138a",
   "metadata": {},
   "source": [
    "un-natural-daliy : 일상생활 음성의 감정 예측"
   ]
  },
  {
   "cell_type": "code",
   "execution_count": 2,
   "id": "bfcb1aaa",
   "metadata": {
    "scrolled": true,
    "tags": []
   },
   "outputs": [
    {
     "data": {
      "text/html": [
       "<div>\n",
       "<style scoped>\n",
       "    .dataframe tbody tr th:only-of-type {\n",
       "        vertical-align: middle;\n",
       "    }\n",
       "\n",
       "    .dataframe tbody tr th {\n",
       "        vertical-align: top;\n",
       "    }\n",
       "\n",
       "    .dataframe thead th {\n",
       "        text-align: right;\n",
       "    }\n",
       "</style>\n",
       "<table border=\"1\" class=\"dataframe\">\n",
       "  <thead>\n",
       "    <tr style=\"text-align: right;\">\n",
       "      <th></th>\n",
       "      <th>label</th>\n",
       "      <th>file_name</th>\n",
       "      <th>angry</th>\n",
       "      <th>disgust</th>\n",
       "      <th>fear</th>\n",
       "      <th>happy</th>\n",
       "      <th>neutral</th>\n",
       "      <th>sad</th>\n",
       "      <th>surprise</th>\n",
       "    </tr>\n",
       "  </thead>\n",
       "  <tbody>\n",
       "    <tr>\n",
       "      <th>0</th>\n",
       "      <td>0.0</td>\n",
       "      <td>Sess01_script01_User001F_001.wav</td>\n",
       "      <td>0.108658</td>\n",
       "      <td>0.123759</td>\n",
       "      <td>0.163147</td>\n",
       "      <td>0.077577</td>\n",
       "      <td>0.355532</td>\n",
       "      <td>0.090270</td>\n",
       "      <td>0.081057</td>\n",
       "    </tr>\n",
       "    <tr>\n",
       "      <th>1</th>\n",
       "      <td>0.0</td>\n",
       "      <td>Sess01_script01_User001F_002.wav</td>\n",
       "      <td>0.092113</td>\n",
       "      <td>0.130429</td>\n",
       "      <td>0.216745</td>\n",
       "      <td>0.063603</td>\n",
       "      <td>0.325484</td>\n",
       "      <td>0.094164</td>\n",
       "      <td>0.077462</td>\n",
       "    </tr>\n",
       "    <tr>\n",
       "      <th>2</th>\n",
       "      <td>0.0</td>\n",
       "      <td>Sess01_script01_User001F_003.wav</td>\n",
       "      <td>0.041212</td>\n",
       "      <td>0.092273</td>\n",
       "      <td>0.130359</td>\n",
       "      <td>0.033353</td>\n",
       "      <td>0.594373</td>\n",
       "      <td>0.059997</td>\n",
       "      <td>0.048433</td>\n",
       "    </tr>\n",
       "    <tr>\n",
       "      <th>3</th>\n",
       "      <td>0.0</td>\n",
       "      <td>Sess01_script01_User001F_005.wav</td>\n",
       "      <td>0.072157</td>\n",
       "      <td>0.108847</td>\n",
       "      <td>0.246469</td>\n",
       "      <td>0.051413</td>\n",
       "      <td>0.412226</td>\n",
       "      <td>0.056471</td>\n",
       "      <td>0.052418</td>\n",
       "    </tr>\n",
       "    <tr>\n",
       "      <th>4</th>\n",
       "      <td>0.0</td>\n",
       "      <td>Sess01_script01_User001F_006.wav</td>\n",
       "      <td>0.114871</td>\n",
       "      <td>0.192869</td>\n",
       "      <td>0.152400</td>\n",
       "      <td>0.091673</td>\n",
       "      <td>0.169726</td>\n",
       "      <td>0.177319</td>\n",
       "      <td>0.101141</td>\n",
       "    </tr>\n",
       "    <tr>\n",
       "      <th>...</th>\n",
       "      <td>...</td>\n",
       "      <td>...</td>\n",
       "      <td>...</td>\n",
       "      <td>...</td>\n",
       "      <td>...</td>\n",
       "      <td>...</td>\n",
       "      <td>...</td>\n",
       "      <td>...</td>\n",
       "      <td>...</td>\n",
       "    </tr>\n",
       "    <tr>\n",
       "      <th>349</th>\n",
       "      <td>0.0</td>\n",
       "      <td>Sess02_script03_User003F_005.wav</td>\n",
       "      <td>0.080709</td>\n",
       "      <td>0.099881</td>\n",
       "      <td>0.082612</td>\n",
       "      <td>0.042239</td>\n",
       "      <td>0.594479</td>\n",
       "      <td>0.056768</td>\n",
       "      <td>0.043313</td>\n",
       "    </tr>\n",
       "    <tr>\n",
       "      <th>350</th>\n",
       "      <td>0.0</td>\n",
       "      <td>Sess02_script03_User003F_006.wav</td>\n",
       "      <td>0.045009</td>\n",
       "      <td>0.056467</td>\n",
       "      <td>0.106874</td>\n",
       "      <td>0.034434</td>\n",
       "      <td>0.667508</td>\n",
       "      <td>0.044637</td>\n",
       "      <td>0.045070</td>\n",
       "    </tr>\n",
       "    <tr>\n",
       "      <th>351</th>\n",
       "      <td>0.0</td>\n",
       "      <td>Sess02_script03_User003F_008.wav</td>\n",
       "      <td>0.064711</td>\n",
       "      <td>0.069545</td>\n",
       "      <td>0.145994</td>\n",
       "      <td>0.052508</td>\n",
       "      <td>0.550750</td>\n",
       "      <td>0.054847</td>\n",
       "      <td>0.061644</td>\n",
       "    </tr>\n",
       "    <tr>\n",
       "      <th>352</th>\n",
       "      <td>0.0</td>\n",
       "      <td>Sess02_script03_User003F_009.wav</td>\n",
       "      <td>0.073032</td>\n",
       "      <td>0.078349</td>\n",
       "      <td>0.356782</td>\n",
       "      <td>0.048808</td>\n",
       "      <td>0.338896</td>\n",
       "      <td>0.054034</td>\n",
       "      <td>0.050098</td>\n",
       "    </tr>\n",
       "    <tr>\n",
       "      <th>353</th>\n",
       "      <td>0.0</td>\n",
       "      <td>Sess02_script03_User003F_010.wav</td>\n",
       "      <td>0.076832</td>\n",
       "      <td>0.085773</td>\n",
       "      <td>0.170146</td>\n",
       "      <td>0.063995</td>\n",
       "      <td>0.487250</td>\n",
       "      <td>0.054461</td>\n",
       "      <td>0.061543</td>\n",
       "    </tr>\n",
       "  </tbody>\n",
       "</table>\n",
       "<p>354 rows × 9 columns</p>\n",
       "</div>"
      ],
      "text/plain": [
       "     label                         file_name     angry   disgust      fear  \\\n",
       "0      0.0  Sess01_script01_User001F_001.wav  0.108658  0.123759  0.163147   \n",
       "1      0.0  Sess01_script01_User001F_002.wav  0.092113  0.130429  0.216745   \n",
       "2      0.0  Sess01_script01_User001F_003.wav  0.041212  0.092273  0.130359   \n",
       "3      0.0  Sess01_script01_User001F_005.wav  0.072157  0.108847  0.246469   \n",
       "4      0.0  Sess01_script01_User001F_006.wav  0.114871  0.192869  0.152400   \n",
       "..     ...                               ...       ...       ...       ...   \n",
       "349    0.0  Sess02_script03_User003F_005.wav  0.080709  0.099881  0.082612   \n",
       "350    0.0  Sess02_script03_User003F_006.wav  0.045009  0.056467  0.106874   \n",
       "351    0.0  Sess02_script03_User003F_008.wav  0.064711  0.069545  0.145994   \n",
       "352    0.0  Sess02_script03_User003F_009.wav  0.073032  0.078349  0.356782   \n",
       "353    0.0  Sess02_script03_User003F_010.wav  0.076832  0.085773  0.170146   \n",
       "\n",
       "        happy   neutral       sad  surprise  \n",
       "0    0.077577  0.355532  0.090270  0.081057  \n",
       "1    0.063603  0.325484  0.094164  0.077462  \n",
       "2    0.033353  0.594373  0.059997  0.048433  \n",
       "3    0.051413  0.412226  0.056471  0.052418  \n",
       "4    0.091673  0.169726  0.177319  0.101141  \n",
       "..        ...       ...       ...       ...  \n",
       "349  0.042239  0.594479  0.056768  0.043313  \n",
       "350  0.034434  0.667508  0.044637  0.045070  \n",
       "351  0.052508  0.550750  0.054847  0.061644  \n",
       "352  0.048808  0.338896  0.054034  0.050098  \n",
       "353  0.063995  0.487250  0.054461  0.061543  \n",
       "\n",
       "[354 rows x 9 columns]"
      ]
     },
     "execution_count": 2,
     "metadata": {},
     "output_type": "execute_result"
    }
   ],
   "source": [
    "labeled_0_daily_df = pd.read_csv(\"./data/emotion_labeled_0_neutral_ETRI.csv\", index_col=0)\n",
    "labeled_0_daily_df = labeled_0_daily_df.iloc[:354, :]\n",
    "labeled_0_daily_df"
   ]
  },
  {
   "cell_type": "markdown",
   "id": "0f80be9a-0a1e-44af-86ea-070769a6b58c",
   "metadata": {},
   "source": [
    "un-natural-emergency : 긴급상황 음성의 감정 예측"
   ]
  },
  {
   "cell_type": "code",
   "execution_count": 3,
   "id": "2fa7335c-6aa2-401b-ba83-44d58b959c07",
   "metadata": {
    "tags": []
   },
   "outputs": [
    {
     "data": {
      "text/html": [
       "<div>\n",
       "<style scoped>\n",
       "    .dataframe tbody tr th:only-of-type {\n",
       "        vertical-align: middle;\n",
       "    }\n",
       "\n",
       "    .dataframe tbody tr th {\n",
       "        vertical-align: top;\n",
       "    }\n",
       "\n",
       "    .dataframe thead th {\n",
       "        text-align: right;\n",
       "    }\n",
       "</style>\n",
       "<table border=\"1\" class=\"dataframe\">\n",
       "  <thead>\n",
       "    <tr style=\"text-align: right;\">\n",
       "      <th></th>\n",
       "      <th>label</th>\n",
       "      <th>file_name</th>\n",
       "      <th>angry</th>\n",
       "      <th>disgust</th>\n",
       "      <th>fear</th>\n",
       "      <th>happy</th>\n",
       "      <th>neutral</th>\n",
       "      <th>sad</th>\n",
       "      <th>surprise</th>\n",
       "    </tr>\n",
       "  </thead>\n",
       "  <tbody>\n",
       "    <tr>\n",
       "      <th>0</th>\n",
       "      <td>0.0</td>\n",
       "      <td>1.강제추행(성범죄)_107943_label.wav</td>\n",
       "      <td>0.189842</td>\n",
       "      <td>0.114989</td>\n",
       "      <td>0.139371</td>\n",
       "      <td>0.110127</td>\n",
       "      <td>0.135098</td>\n",
       "      <td>0.150757</td>\n",
       "      <td>0.159816</td>\n",
       "    </tr>\n",
       "    <tr>\n",
       "      <th>1</th>\n",
       "      <td>0.0</td>\n",
       "      <td>1.강제추행(성범죄)_108220_label.wav</td>\n",
       "      <td>0.193379</td>\n",
       "      <td>0.239132</td>\n",
       "      <td>0.108758</td>\n",
       "      <td>0.105608</td>\n",
       "      <td>0.122311</td>\n",
       "      <td>0.091541</td>\n",
       "      <td>0.139271</td>\n",
       "    </tr>\n",
       "    <tr>\n",
       "      <th>2</th>\n",
       "      <td>0.0</td>\n",
       "      <td>1.강제추행(성범죄)_109497_label.wav</td>\n",
       "      <td>0.061982</td>\n",
       "      <td>0.482140</td>\n",
       "      <td>0.094375</td>\n",
       "      <td>0.095728</td>\n",
       "      <td>0.074729</td>\n",
       "      <td>0.068141</td>\n",
       "      <td>0.122906</td>\n",
       "    </tr>\n",
       "    <tr>\n",
       "      <th>3</th>\n",
       "      <td>0.0</td>\n",
       "      <td>1.강제추행(성범죄)_109636_label.wav</td>\n",
       "      <td>0.186349</td>\n",
       "      <td>0.175437</td>\n",
       "      <td>0.127058</td>\n",
       "      <td>0.136257</td>\n",
       "      <td>0.116044</td>\n",
       "      <td>0.112726</td>\n",
       "      <td>0.146130</td>\n",
       "    </tr>\n",
       "    <tr>\n",
       "      <th>4</th>\n",
       "      <td>0.0</td>\n",
       "      <td>1.강제추행(성범죄)_117375_label.wav</td>\n",
       "      <td>0.304999</td>\n",
       "      <td>0.121018</td>\n",
       "      <td>0.105573</td>\n",
       "      <td>0.102989</td>\n",
       "      <td>0.146496</td>\n",
       "      <td>0.126591</td>\n",
       "      <td>0.092332</td>\n",
       "    </tr>\n",
       "    <tr>\n",
       "      <th>...</th>\n",
       "      <td>...</td>\n",
       "      <td>...</td>\n",
       "      <td>...</td>\n",
       "      <td>...</td>\n",
       "      <td>...</td>\n",
       "      <td>...</td>\n",
       "      <td>...</td>\n",
       "      <td>...</td>\n",
       "      <td>...</td>\n",
       "    </tr>\n",
       "    <tr>\n",
       "      <th>318</th>\n",
       "      <td>0.0</td>\n",
       "      <td>4.폭력범죄_933010_label.wav</td>\n",
       "      <td>0.285854</td>\n",
       "      <td>0.146950</td>\n",
       "      <td>0.111302</td>\n",
       "      <td>0.113506</td>\n",
       "      <td>0.119206</td>\n",
       "      <td>0.123095</td>\n",
       "      <td>0.100086</td>\n",
       "    </tr>\n",
       "    <tr>\n",
       "      <th>319</th>\n",
       "      <td>0.0</td>\n",
       "      <td>4.폭력범죄_933177_label.wav</td>\n",
       "      <td>0.285912</td>\n",
       "      <td>0.156525</td>\n",
       "      <td>0.098372</td>\n",
       "      <td>0.127285</td>\n",
       "      <td>0.105158</td>\n",
       "      <td>0.134161</td>\n",
       "      <td>0.092587</td>\n",
       "    </tr>\n",
       "    <tr>\n",
       "      <th>320</th>\n",
       "      <td>0.0</td>\n",
       "      <td>4.폭력범죄_997271_label.wav</td>\n",
       "      <td>0.125216</td>\n",
       "      <td>0.222636</td>\n",
       "      <td>0.195443</td>\n",
       "      <td>0.094094</td>\n",
       "      <td>0.075627</td>\n",
       "      <td>0.171496</td>\n",
       "      <td>0.115489</td>\n",
       "    </tr>\n",
       "    <tr>\n",
       "      <th>321</th>\n",
       "      <td>0.0</td>\n",
       "      <td>4.폭력범죄_998919_label.wav</td>\n",
       "      <td>0.325107</td>\n",
       "      <td>0.113451</td>\n",
       "      <td>0.061425</td>\n",
       "      <td>0.122577</td>\n",
       "      <td>0.117296</td>\n",
       "      <td>0.096117</td>\n",
       "      <td>0.164025</td>\n",
       "    </tr>\n",
       "    <tr>\n",
       "      <th>322</th>\n",
       "      <td>0.0</td>\n",
       "      <td>4.폭력범죄_999803_label.wav</td>\n",
       "      <td>0.191204</td>\n",
       "      <td>0.139673</td>\n",
       "      <td>0.098934</td>\n",
       "      <td>0.105794</td>\n",
       "      <td>0.185394</td>\n",
       "      <td>0.110091</td>\n",
       "      <td>0.168909</td>\n",
       "    </tr>\n",
       "  </tbody>\n",
       "</table>\n",
       "<p>323 rows × 9 columns</p>\n",
       "</div>"
      ],
      "text/plain": [
       "     label                     file_name     angry   disgust      fear  \\\n",
       "0      0.0  1.강제추행(성범죄)_107943_label.wav  0.189842  0.114989  0.139371   \n",
       "1      0.0  1.강제추행(성범죄)_108220_label.wav  0.193379  0.239132  0.108758   \n",
       "2      0.0  1.강제추행(성범죄)_109497_label.wav  0.061982  0.482140  0.094375   \n",
       "3      0.0  1.강제추행(성범죄)_109636_label.wav  0.186349  0.175437  0.127058   \n",
       "4      0.0  1.강제추행(성범죄)_117375_label.wav  0.304999  0.121018  0.105573   \n",
       "..     ...                           ...       ...       ...       ...   \n",
       "318    0.0       4.폭력범죄_933010_label.wav  0.285854  0.146950  0.111302   \n",
       "319    0.0       4.폭력범죄_933177_label.wav  0.285912  0.156525  0.098372   \n",
       "320    0.0       4.폭력범죄_997271_label.wav  0.125216  0.222636  0.195443   \n",
       "321    0.0       4.폭력범죄_998919_label.wav  0.325107  0.113451  0.061425   \n",
       "322    0.0       4.폭력범죄_999803_label.wav  0.191204  0.139673  0.098934   \n",
       "\n",
       "        happy   neutral       sad  surprise  \n",
       "0    0.110127  0.135098  0.150757  0.159816  \n",
       "1    0.105608  0.122311  0.091541  0.139271  \n",
       "2    0.095728  0.074729  0.068141  0.122906  \n",
       "3    0.136257  0.116044  0.112726  0.146130  \n",
       "4    0.102989  0.146496  0.126591  0.092332  \n",
       "..        ...       ...       ...       ...  \n",
       "318  0.113506  0.119206  0.123095  0.100086  \n",
       "319  0.127285  0.105158  0.134161  0.092587  \n",
       "320  0.094094  0.075627  0.171496  0.115489  \n",
       "321  0.122577  0.117296  0.096117  0.164025  \n",
       "322  0.105794  0.185394  0.110091  0.168909  \n",
       "\n",
       "[323 rows x 9 columns]"
      ]
     },
     "execution_count": 3,
     "metadata": {},
     "output_type": "execute_result"
    }
   ],
   "source": [
    "labeled_0_emer_df = pd.read_csv(\"./data/emotion_labeled_0_neutral_AIHub.csv\", index_col=0)\n",
    "labeled_0_emer_df"
   ]
  },
  {
   "cell_type": "markdown",
   "id": "06a57bd6-53d7-4d9f-92ce-a80f0465760d",
   "metadata": {},
   "source": [
    "natural-emergency : 긴급상황 음성의 감정 예측"
   ]
  },
  {
   "cell_type": "code",
   "execution_count": 4,
   "id": "e3ccaa3c",
   "metadata": {
    "scrolled": true
   },
   "outputs": [
    {
     "data": {
      "text/html": [
       "<div>\n",
       "<style scoped>\n",
       "    .dataframe tbody tr th:only-of-type {\n",
       "        vertical-align: middle;\n",
       "    }\n",
       "\n",
       "    .dataframe tbody tr th {\n",
       "        vertical-align: top;\n",
       "    }\n",
       "\n",
       "    .dataframe thead th {\n",
       "        text-align: right;\n",
       "    }\n",
       "</style>\n",
       "<table border=\"1\" class=\"dataframe\">\n",
       "  <thead>\n",
       "    <tr style=\"text-align: right;\">\n",
       "      <th></th>\n",
       "      <th>label</th>\n",
       "      <th>file_name</th>\n",
       "      <th>angry</th>\n",
       "      <th>disgust</th>\n",
       "      <th>fear</th>\n",
       "      <th>happy</th>\n",
       "      <th>neutral</th>\n",
       "      <th>sad</th>\n",
       "      <th>surprise</th>\n",
       "    </tr>\n",
       "  </thead>\n",
       "  <tbody>\n",
       "    <tr>\n",
       "      <th>0</th>\n",
       "      <td>1.0</td>\n",
       "      <td>1.강제추행(성범죄)_105144_label.wav</td>\n",
       "      <td>0.074369</td>\n",
       "      <td>0.302597</td>\n",
       "      <td>0.123152</td>\n",
       "      <td>0.112772</td>\n",
       "      <td>0.107445</td>\n",
       "      <td>0.077521</td>\n",
       "      <td>0.202143</td>\n",
       "    </tr>\n",
       "    <tr>\n",
       "      <th>1</th>\n",
       "      <td>1.0</td>\n",
       "      <td>1.강제추행(성범죄)_105154_label.wav</td>\n",
       "      <td>0.108430</td>\n",
       "      <td>0.175215</td>\n",
       "      <td>0.117529</td>\n",
       "      <td>0.105761</td>\n",
       "      <td>0.122957</td>\n",
       "      <td>0.146268</td>\n",
       "      <td>0.223840</td>\n",
       "    </tr>\n",
       "    <tr>\n",
       "      <th>2</th>\n",
       "      <td>1.0</td>\n",
       "      <td>1.강제추행(성범죄)_105604_label.wav</td>\n",
       "      <td>0.142622</td>\n",
       "      <td>0.211411</td>\n",
       "      <td>0.129594</td>\n",
       "      <td>0.121581</td>\n",
       "      <td>0.144514</td>\n",
       "      <td>0.102750</td>\n",
       "      <td>0.147528</td>\n",
       "    </tr>\n",
       "    <tr>\n",
       "      <th>3</th>\n",
       "      <td>1.0</td>\n",
       "      <td>1.강제추행(성범죄)_105697_label.wav</td>\n",
       "      <td>0.244427</td>\n",
       "      <td>0.163676</td>\n",
       "      <td>0.132963</td>\n",
       "      <td>0.118321</td>\n",
       "      <td>0.074618</td>\n",
       "      <td>0.065131</td>\n",
       "      <td>0.200865</td>\n",
       "    </tr>\n",
       "    <tr>\n",
       "      <th>4</th>\n",
       "      <td>1.0</td>\n",
       "      <td>1.강제추행(성범죄)_106166_label.wav</td>\n",
       "      <td>0.220723</td>\n",
       "      <td>0.174311</td>\n",
       "      <td>0.129975</td>\n",
       "      <td>0.082436</td>\n",
       "      <td>0.186963</td>\n",
       "      <td>0.090724</td>\n",
       "      <td>0.114868</td>\n",
       "    </tr>\n",
       "    <tr>\n",
       "      <th>...</th>\n",
       "      <td>...</td>\n",
       "      <td>...</td>\n",
       "      <td>...</td>\n",
       "      <td>...</td>\n",
       "      <td>...</td>\n",
       "      <td>...</td>\n",
       "      <td>...</td>\n",
       "      <td>...</td>\n",
       "      <td>...</td>\n",
       "    </tr>\n",
       "    <tr>\n",
       "      <th>672</th>\n",
       "      <td>1.0</td>\n",
       "      <td>4.폭력범죄_998945_label.wav</td>\n",
       "      <td>0.113359</td>\n",
       "      <td>0.212740</td>\n",
       "      <td>0.113303</td>\n",
       "      <td>0.157936</td>\n",
       "      <td>0.173878</td>\n",
       "      <td>0.115190</td>\n",
       "      <td>0.113594</td>\n",
       "    </tr>\n",
       "    <tr>\n",
       "      <th>673</th>\n",
       "      <td>1.0</td>\n",
       "      <td>4.폭력범죄_998976_label.wav</td>\n",
       "      <td>0.225782</td>\n",
       "      <td>0.098953</td>\n",
       "      <td>0.148766</td>\n",
       "      <td>0.112828</td>\n",
       "      <td>0.133054</td>\n",
       "      <td>0.143034</td>\n",
       "      <td>0.137584</td>\n",
       "    </tr>\n",
       "    <tr>\n",
       "      <th>674</th>\n",
       "      <td>1.0</td>\n",
       "      <td>4.폭력범죄_999601_label.wav</td>\n",
       "      <td>0.137947</td>\n",
       "      <td>0.191702</td>\n",
       "      <td>0.127052</td>\n",
       "      <td>0.109328</td>\n",
       "      <td>0.114891</td>\n",
       "      <td>0.107452</td>\n",
       "      <td>0.211628</td>\n",
       "    </tr>\n",
       "    <tr>\n",
       "      <th>675</th>\n",
       "      <td>1.0</td>\n",
       "      <td>4.폭력범죄_999687_label.wav</td>\n",
       "      <td>0.217828</td>\n",
       "      <td>0.100223</td>\n",
       "      <td>0.086434</td>\n",
       "      <td>0.250242</td>\n",
       "      <td>0.123422</td>\n",
       "      <td>0.104358</td>\n",
       "      <td>0.117491</td>\n",
       "    </tr>\n",
       "    <tr>\n",
       "      <th>676</th>\n",
       "      <td>1.0</td>\n",
       "      <td>4.폭력범죄_999972_label.wav</td>\n",
       "      <td>0.171776</td>\n",
       "      <td>0.269551</td>\n",
       "      <td>0.077771</td>\n",
       "      <td>0.072894</td>\n",
       "      <td>0.083227</td>\n",
       "      <td>0.083666</td>\n",
       "      <td>0.241115</td>\n",
       "    </tr>\n",
       "  </tbody>\n",
       "</table>\n",
       "<p>677 rows × 9 columns</p>\n",
       "</div>"
      ],
      "text/plain": [
       "     label                     file_name     angry   disgust      fear  \\\n",
       "0      1.0  1.강제추행(성범죄)_105144_label.wav  0.074369  0.302597  0.123152   \n",
       "1      1.0  1.강제추행(성범죄)_105154_label.wav  0.108430  0.175215  0.117529   \n",
       "2      1.0  1.강제추행(성범죄)_105604_label.wav  0.142622  0.211411  0.129594   \n",
       "3      1.0  1.강제추행(성범죄)_105697_label.wav  0.244427  0.163676  0.132963   \n",
       "4      1.0  1.강제추행(성범죄)_106166_label.wav  0.220723  0.174311  0.129975   \n",
       "..     ...                           ...       ...       ...       ...   \n",
       "672    1.0       4.폭력범죄_998945_label.wav  0.113359  0.212740  0.113303   \n",
       "673    1.0       4.폭력범죄_998976_label.wav  0.225782  0.098953  0.148766   \n",
       "674    1.0       4.폭력범죄_999601_label.wav  0.137947  0.191702  0.127052   \n",
       "675    1.0       4.폭력범죄_999687_label.wav  0.217828  0.100223  0.086434   \n",
       "676    1.0       4.폭력범죄_999972_label.wav  0.171776  0.269551  0.077771   \n",
       "\n",
       "        happy   neutral       sad  surprise  \n",
       "0    0.112772  0.107445  0.077521  0.202143  \n",
       "1    0.105761  0.122957  0.146268  0.223840  \n",
       "2    0.121581  0.144514  0.102750  0.147528  \n",
       "3    0.118321  0.074618  0.065131  0.200865  \n",
       "4    0.082436  0.186963  0.090724  0.114868  \n",
       "..        ...       ...       ...       ...  \n",
       "672  0.157936  0.173878  0.115190  0.113594  \n",
       "673  0.112828  0.133054  0.143034  0.137584  \n",
       "674  0.109328  0.114891  0.107452  0.211628  \n",
       "675  0.250242  0.123422  0.104358  0.117491  \n",
       "676  0.072894  0.083227  0.083666  0.241115  \n",
       "\n",
       "[677 rows x 9 columns]"
      ]
     },
     "execution_count": 4,
     "metadata": {},
     "output_type": "execute_result"
    }
   ],
   "source": [
    "labeled_1_emer_df = pd.read_csv(\"./data/emotion_labeled_1.csv\", index_col=0)\n",
    "labeled_1_emer_df"
   ]
  },
  {
   "cell_type": "code",
   "execution_count": 5,
   "id": "9999408d-2c08-48b1-a970-7f77e3f4601d",
   "metadata": {
    "scrolled": true
   },
   "outputs": [
    {
     "data": {
      "text/html": [
       "<div>\n",
       "<style scoped>\n",
       "    .dataframe tbody tr th:only-of-type {\n",
       "        vertical-align: middle;\n",
       "    }\n",
       "\n",
       "    .dataframe tbody tr th {\n",
       "        vertical-align: top;\n",
       "    }\n",
       "\n",
       "    .dataframe thead th {\n",
       "        text-align: right;\n",
       "    }\n",
       "</style>\n",
       "<table border=\"1\" class=\"dataframe\">\n",
       "  <thead>\n",
       "    <tr style=\"text-align: right;\">\n",
       "      <th></th>\n",
       "      <th>label</th>\n",
       "      <th>file_name</th>\n",
       "      <th>angry</th>\n",
       "      <th>disgust</th>\n",
       "      <th>fear</th>\n",
       "      <th>happy</th>\n",
       "      <th>neutral</th>\n",
       "      <th>sad</th>\n",
       "      <th>surprise</th>\n",
       "    </tr>\n",
       "  </thead>\n",
       "  <tbody>\n",
       "    <tr>\n",
       "      <th>0</th>\n",
       "      <td>0.0</td>\n",
       "      <td>Sess01_script01_User001F_001.wav</td>\n",
       "      <td>0.108658</td>\n",
       "      <td>0.123759</td>\n",
       "      <td>0.163147</td>\n",
       "      <td>0.077577</td>\n",
       "      <td>0.355532</td>\n",
       "      <td>0.090270</td>\n",
       "      <td>0.081057</td>\n",
       "    </tr>\n",
       "    <tr>\n",
       "      <th>1</th>\n",
       "      <td>0.0</td>\n",
       "      <td>Sess01_script01_User001F_002.wav</td>\n",
       "      <td>0.092113</td>\n",
       "      <td>0.130429</td>\n",
       "      <td>0.216745</td>\n",
       "      <td>0.063603</td>\n",
       "      <td>0.325484</td>\n",
       "      <td>0.094164</td>\n",
       "      <td>0.077462</td>\n",
       "    </tr>\n",
       "    <tr>\n",
       "      <th>2</th>\n",
       "      <td>0.0</td>\n",
       "      <td>Sess01_script01_User001F_003.wav</td>\n",
       "      <td>0.041212</td>\n",
       "      <td>0.092273</td>\n",
       "      <td>0.130359</td>\n",
       "      <td>0.033353</td>\n",
       "      <td>0.594373</td>\n",
       "      <td>0.059997</td>\n",
       "      <td>0.048433</td>\n",
       "    </tr>\n",
       "    <tr>\n",
       "      <th>3</th>\n",
       "      <td>0.0</td>\n",
       "      <td>Sess01_script01_User001F_005.wav</td>\n",
       "      <td>0.072157</td>\n",
       "      <td>0.108847</td>\n",
       "      <td>0.246469</td>\n",
       "      <td>0.051413</td>\n",
       "      <td>0.412226</td>\n",
       "      <td>0.056471</td>\n",
       "      <td>0.052418</td>\n",
       "    </tr>\n",
       "    <tr>\n",
       "      <th>4</th>\n",
       "      <td>0.0</td>\n",
       "      <td>Sess01_script01_User001F_006.wav</td>\n",
       "      <td>0.114871</td>\n",
       "      <td>0.192869</td>\n",
       "      <td>0.152400</td>\n",
       "      <td>0.091673</td>\n",
       "      <td>0.169726</td>\n",
       "      <td>0.177319</td>\n",
       "      <td>0.101141</td>\n",
       "    </tr>\n",
       "    <tr>\n",
       "      <th>...</th>\n",
       "      <td>...</td>\n",
       "      <td>...</td>\n",
       "      <td>...</td>\n",
       "      <td>...</td>\n",
       "      <td>...</td>\n",
       "      <td>...</td>\n",
       "      <td>...</td>\n",
       "      <td>...</td>\n",
       "      <td>...</td>\n",
       "    </tr>\n",
       "    <tr>\n",
       "      <th>672</th>\n",
       "      <td>1.0</td>\n",
       "      <td>4.폭력범죄_998945_label.wav</td>\n",
       "      <td>0.113359</td>\n",
       "      <td>0.212740</td>\n",
       "      <td>0.113303</td>\n",
       "      <td>0.157936</td>\n",
       "      <td>0.173878</td>\n",
       "      <td>0.115190</td>\n",
       "      <td>0.113594</td>\n",
       "    </tr>\n",
       "    <tr>\n",
       "      <th>673</th>\n",
       "      <td>1.0</td>\n",
       "      <td>4.폭력범죄_998976_label.wav</td>\n",
       "      <td>0.225782</td>\n",
       "      <td>0.098953</td>\n",
       "      <td>0.148766</td>\n",
       "      <td>0.112828</td>\n",
       "      <td>0.133054</td>\n",
       "      <td>0.143034</td>\n",
       "      <td>0.137584</td>\n",
       "    </tr>\n",
       "    <tr>\n",
       "      <th>674</th>\n",
       "      <td>1.0</td>\n",
       "      <td>4.폭력범죄_999601_label.wav</td>\n",
       "      <td>0.137947</td>\n",
       "      <td>0.191702</td>\n",
       "      <td>0.127052</td>\n",
       "      <td>0.109328</td>\n",
       "      <td>0.114891</td>\n",
       "      <td>0.107452</td>\n",
       "      <td>0.211628</td>\n",
       "    </tr>\n",
       "    <tr>\n",
       "      <th>675</th>\n",
       "      <td>1.0</td>\n",
       "      <td>4.폭력범죄_999687_label.wav</td>\n",
       "      <td>0.217828</td>\n",
       "      <td>0.100223</td>\n",
       "      <td>0.086434</td>\n",
       "      <td>0.250242</td>\n",
       "      <td>0.123422</td>\n",
       "      <td>0.104358</td>\n",
       "      <td>0.117491</td>\n",
       "    </tr>\n",
       "    <tr>\n",
       "      <th>676</th>\n",
       "      <td>1.0</td>\n",
       "      <td>4.폭력범죄_999972_label.wav</td>\n",
       "      <td>0.171776</td>\n",
       "      <td>0.269551</td>\n",
       "      <td>0.077771</td>\n",
       "      <td>0.072894</td>\n",
       "      <td>0.083227</td>\n",
       "      <td>0.083666</td>\n",
       "      <td>0.241115</td>\n",
       "    </tr>\n",
       "  </tbody>\n",
       "</table>\n",
       "<p>1354 rows × 9 columns</p>\n",
       "</div>"
      ],
      "text/plain": [
       "     label                         file_name     angry   disgust      fear  \\\n",
       "0      0.0  Sess01_script01_User001F_001.wav  0.108658  0.123759  0.163147   \n",
       "1      0.0  Sess01_script01_User001F_002.wav  0.092113  0.130429  0.216745   \n",
       "2      0.0  Sess01_script01_User001F_003.wav  0.041212  0.092273  0.130359   \n",
       "3      0.0  Sess01_script01_User001F_005.wav  0.072157  0.108847  0.246469   \n",
       "4      0.0  Sess01_script01_User001F_006.wav  0.114871  0.192869  0.152400   \n",
       "..     ...                               ...       ...       ...       ...   \n",
       "672    1.0           4.폭력범죄_998945_label.wav  0.113359  0.212740  0.113303   \n",
       "673    1.0           4.폭력범죄_998976_label.wav  0.225782  0.098953  0.148766   \n",
       "674    1.0           4.폭력범죄_999601_label.wav  0.137947  0.191702  0.127052   \n",
       "675    1.0           4.폭력범죄_999687_label.wav  0.217828  0.100223  0.086434   \n",
       "676    1.0           4.폭력범죄_999972_label.wav  0.171776  0.269551  0.077771   \n",
       "\n",
       "        happy   neutral       sad  surprise  \n",
       "0    0.077577  0.355532  0.090270  0.081057  \n",
       "1    0.063603  0.325484  0.094164  0.077462  \n",
       "2    0.033353  0.594373  0.059997  0.048433  \n",
       "3    0.051413  0.412226  0.056471  0.052418  \n",
       "4    0.091673  0.169726  0.177319  0.101141  \n",
       "..        ...       ...       ...       ...  \n",
       "672  0.157936  0.173878  0.115190  0.113594  \n",
       "673  0.112828  0.133054  0.143034  0.137584  \n",
       "674  0.109328  0.114891  0.107452  0.211628  \n",
       "675  0.250242  0.123422  0.104358  0.117491  \n",
       "676  0.072894  0.083227  0.083666  0.241115  \n",
       "\n",
       "[1354 rows x 9 columns]"
      ]
     },
     "execution_count": 5,
     "metadata": {},
     "output_type": "execute_result"
    }
   ],
   "source": [
    "#3가지 데이터프레임을 병합하여 labeled_df 생성\n",
    "labeled_df = pd.concat([labeled_0_daily_df,labeled_0_emer_df, labeled_1_emer_df], axis=0)\n",
    "labeled_df"
   ]
  },
  {
   "cell_type": "code",
   "execution_count": 6,
   "id": "d59b6f73-6e97-43c6-b48f-862027e8b95c",
   "metadata": {},
   "outputs": [
    {
     "data": {
      "text/plain": [
       "0.0    677\n",
       "1.0    677\n",
       "Name: label, dtype: int64"
      ]
     },
     "execution_count": 6,
     "metadata": {},
     "output_type": "execute_result"
    }
   ],
   "source": [
    "labeled_df[\"label\"].value_counts()"
   ]
  },
  {
   "cell_type": "code",
   "execution_count": 7,
   "id": "88d0a15d",
   "metadata": {},
   "outputs": [],
   "source": [
    "#save csv (labeled)\n",
    "labeled_df.to_csv('./data/labeled.csv')"
   ]
  },
  {
   "cell_type": "markdown",
   "id": "97fa0f1c-a18c-45ef-858f-d0f1d3c4161d",
   "metadata": {},
   "source": [
    "#### X, y split"
   ]
  },
  {
   "cell_type": "code",
   "execution_count": 8,
   "id": "b8d44e38-0656-4fd4-852d-e1367540d61c",
   "metadata": {
    "scrolled": true
   },
   "outputs": [
    {
     "name": "stdout",
     "output_type": "stream",
     "text": [
      "(1354, 7) (1354,)\n"
     ]
    }
   ],
   "source": [
    "X= labeled_df.iloc[:,2:]\n",
    "y = labeled_df.iloc[:,0]\n",
    "\n",
    "print(X.shape, y.shape)"
   ]
  },
  {
   "cell_type": "markdown",
   "id": "09ff25e2-e40e-4107-8959-9be584aff3d7",
   "metadata": {},
   "source": [
    "#### train, test split"
   ]
  },
  {
   "cell_type": "code",
   "execution_count": 9,
   "id": "8deee239-66c4-4169-bed9-295163bb3324",
   "metadata": {},
   "outputs": [
    {
     "name": "stdout",
     "output_type": "stream",
     "text": [
      "(1083, 7) (1083,)\n",
      "(271, 7) (271,)\n"
     ]
    }
   ],
   "source": [
    "from sklearn.model_selection import train_test_split\n",
    "\n",
    "X_train, X_test, y_train, y_test = train_test_split(X, y, test_size=0.2, random_state=2023, stratify=y)\n",
    "\n",
    "print(X_train.shape, y_train.shape)\n",
    "print(X_test.shape, y_test.shape)"
   ]
  },
  {
   "cell_type": "code",
   "execution_count": 10,
   "id": "be5462e1-719f-4d28-bb3a-e2af7371fa56",
   "metadata": {},
   "outputs": [],
   "source": [
    "X_train = X_train.values\n",
    "X_test = X_test.values\n",
    "y_train = y_train.values\n",
    "y_test = y_test.values"
   ]
  },
  {
   "cell_type": "markdown",
   "id": "dc10ab76-b4f9-4c6f-bcd9-478fce5a1e32",
   "metadata": {},
   "source": [
    "## 모델 학습\n",
    "- 성능이 좋은 이진 분류 머신러닝 지도학습 모델 사용\n",
    "- 준지도 학습의 기반이 될 이진분류 모델을 탐색"
   ]
  },
  {
   "cell_type": "markdown",
   "id": "d0e9bb6d-d117-443b-94b8-f15c2dbede63",
   "metadata": {},
   "source": [
    "#### LinearRegression"
   ]
  },
  {
   "cell_type": "code",
   "execution_count": 11,
   "id": "26c62bc3",
   "metadata": {},
   "outputs": [
    {
     "data": {
      "text/html": [
       "<style>#sk-container-id-1 {color: black;background-color: white;}#sk-container-id-1 pre{padding: 0;}#sk-container-id-1 div.sk-toggleable {background-color: white;}#sk-container-id-1 label.sk-toggleable__label {cursor: pointer;display: block;width: 100%;margin-bottom: 0;padding: 0.3em;box-sizing: border-box;text-align: center;}#sk-container-id-1 label.sk-toggleable__label-arrow:before {content: \"▸\";float: left;margin-right: 0.25em;color: #696969;}#sk-container-id-1 label.sk-toggleable__label-arrow:hover:before {color: black;}#sk-container-id-1 div.sk-estimator:hover label.sk-toggleable__label-arrow:before {color: black;}#sk-container-id-1 div.sk-toggleable__content {max-height: 0;max-width: 0;overflow: hidden;text-align: left;background-color: #f0f8ff;}#sk-container-id-1 div.sk-toggleable__content pre {margin: 0.2em;color: black;border-radius: 0.25em;background-color: #f0f8ff;}#sk-container-id-1 input.sk-toggleable__control:checked~div.sk-toggleable__content {max-height: 200px;max-width: 100%;overflow: auto;}#sk-container-id-1 input.sk-toggleable__control:checked~label.sk-toggleable__label-arrow:before {content: \"▾\";}#sk-container-id-1 div.sk-estimator input.sk-toggleable__control:checked~label.sk-toggleable__label {background-color: #d4ebff;}#sk-container-id-1 div.sk-label input.sk-toggleable__control:checked~label.sk-toggleable__label {background-color: #d4ebff;}#sk-container-id-1 input.sk-hidden--visually {border: 0;clip: rect(1px 1px 1px 1px);clip: rect(1px, 1px, 1px, 1px);height: 1px;margin: -1px;overflow: hidden;padding: 0;position: absolute;width: 1px;}#sk-container-id-1 div.sk-estimator {font-family: monospace;background-color: #f0f8ff;border: 1px dotted black;border-radius: 0.25em;box-sizing: border-box;margin-bottom: 0.5em;}#sk-container-id-1 div.sk-estimator:hover {background-color: #d4ebff;}#sk-container-id-1 div.sk-parallel-item::after {content: \"\";width: 100%;border-bottom: 1px solid gray;flex-grow: 1;}#sk-container-id-1 div.sk-label:hover label.sk-toggleable__label {background-color: #d4ebff;}#sk-container-id-1 div.sk-serial::before {content: \"\";position: absolute;border-left: 1px solid gray;box-sizing: border-box;top: 0;bottom: 0;left: 50%;z-index: 0;}#sk-container-id-1 div.sk-serial {display: flex;flex-direction: column;align-items: center;background-color: white;padding-right: 0.2em;padding-left: 0.2em;position: relative;}#sk-container-id-1 div.sk-item {position: relative;z-index: 1;}#sk-container-id-1 div.sk-parallel {display: flex;align-items: stretch;justify-content: center;background-color: white;position: relative;}#sk-container-id-1 div.sk-item::before, #sk-container-id-1 div.sk-parallel-item::before {content: \"\";position: absolute;border-left: 1px solid gray;box-sizing: border-box;top: 0;bottom: 0;left: 50%;z-index: -1;}#sk-container-id-1 div.sk-parallel-item {display: flex;flex-direction: column;z-index: 1;position: relative;background-color: white;}#sk-container-id-1 div.sk-parallel-item:first-child::after {align-self: flex-end;width: 50%;}#sk-container-id-1 div.sk-parallel-item:last-child::after {align-self: flex-start;width: 50%;}#sk-container-id-1 div.sk-parallel-item:only-child::after {width: 0;}#sk-container-id-1 div.sk-dashed-wrapped {border: 1px dashed gray;margin: 0 0.4em 0.5em 0.4em;box-sizing: border-box;padding-bottom: 0.4em;background-color: white;}#sk-container-id-1 div.sk-label label {font-family: monospace;font-weight: bold;display: inline-block;line-height: 1.2em;}#sk-container-id-1 div.sk-label-container {text-align: center;}#sk-container-id-1 div.sk-container {/* jupyter's `normalize.less` sets `[hidden] { display: none; }` but bootstrap.min.css set `[hidden] { display: none !important; }` so we also need the `!important` here to be able to override the default hidden behavior on the sphinx rendered scikit-learn.org. See: https://github.com/scikit-learn/scikit-learn/issues/21755 */display: inline-block !important;position: relative;}#sk-container-id-1 div.sk-text-repr-fallback {display: none;}</style><div id=\"sk-container-id-1\" class=\"sk-top-container\"><div class=\"sk-text-repr-fallback\"><pre>LogisticRegression()</pre><b>In a Jupyter environment, please rerun this cell to show the HTML representation or trust the notebook. <br />On GitHub, the HTML representation is unable to render, please try loading this page with nbviewer.org.</b></div><div class=\"sk-container\" hidden><div class=\"sk-item\"><div class=\"sk-estimator sk-toggleable\"><input class=\"sk-toggleable__control sk-hidden--visually\" id=\"sk-estimator-id-1\" type=\"checkbox\" checked><label for=\"sk-estimator-id-1\" class=\"sk-toggleable__label sk-toggleable__label-arrow\">LogisticRegression</label><div class=\"sk-toggleable__content\"><pre>LogisticRegression()</pre></div></div></div></div></div>"
      ],
      "text/plain": [
       "LogisticRegression()"
      ]
     },
     "execution_count": 11,
     "metadata": {},
     "output_type": "execute_result"
    }
   ],
   "source": [
    "from sklearn.linear_model import LogisticRegression\n",
    "\n",
    "lrmodel = LogisticRegression()\n",
    "lrmodel.fit(X_train, y_train)"
   ]
  },
  {
   "cell_type": "markdown",
   "id": "3ab7748b-17c7-4372-bf13-7c06330b5ed9",
   "metadata": {},
   "source": [
    "#### RandomForest\n",
    "- GridSearch를 통한 최적의 Hyperparameter 찾기\n",
    "- 최고 성능의 parameter를 통한 모델 학습\n",
    "    - n_estimators: 랜덤 포레스트에서 생성할 트리의 개수. 트리의 개수가 많을수록 모델의 복잡도가 증가하고, 훈련 시간도 증가. 높은 수준의 n_estimators는 더욱 정확한 예측을 할 수 있다.\n",
    "    - max_depth: 트리의 최대 깊이. 이 값이 높을수록 모델의 복잡도가 증가하고, 훈련 시간도 증가. max_depth를 적절하게 설정하면 트리의 불필요한 가지치기를 방지하여 모델의 성능을 높일 수 있다. None으로 설정하면 모든 노드가 확장될 때까지 트리가 분기됨.\n",
    "    - min_samples_split: 노드를 분할하기 위한 최소한의 샘플 수. 이 값이 높을수록 모델의 일반화 성능이 높아지지만, 모델의 유연성 저하.\n",
    "    - min_samples_leaf: 리프 노드가 되기 위한 최소한의 샘플 수. 이 값이 높을수록 모델의 일반화 성능이 높아지지만, 모델의 유연성은 저하.\n",
    "    - max_features: 각 노드에서 사용할 최대 feature의 수입니다. 이 값이 낮을수록 모델의 일반화 성능이 높아지지만, 모델의 유연성은 저하."
   ]
  },
  {
   "cell_type": "code",
   "execution_count": 12,
   "id": "f19607c1-11c8-4985-a59c-a7447569a31d",
   "metadata": {
    "scrolled": true,
    "tags": []
   },
   "outputs": [],
   "source": [
    "# from sklearn.ensemble import RandomForestClassifier\n",
    "# from sklearn.model_selection import GridSearchCV, train_test_split\n",
    "\n",
    "# rf = RandomForestClassifier()\n",
    "# param_grid = {\n",
    "#     'n_estimators': [100, 200, 300],\n",
    "#     'max_depth': [None, 10, 20],\n",
    "#     'min_samples_split': [2, 5, 10],\n",
    "#     'min_samples_leaf': [1, 2, 4],\n",
    "#     'max_features': ['auto', 'sqrt', 'log2']\n",
    "# }\n",
    "# rf_grid = GridSearchCV(rf, param_grid, cv=5)\n",
    "# rf_grid.fit(X_train, y_train)\n",
    "# rf_best = rf_grid.best_estimator_\n",
    "# print(\"Random Forest Best Score:\", rf_grid.best_score_)\n",
    "# print(\"Random Forest Best Params:\", rf_grid.best_params_)"
   ]
  },
  {
   "cell_type": "markdown",
   "id": "6703dcaa-85ba-48c3-b808-049998d4e765",
   "metadata": {},
   "source": [
    "기본 parameter 설정"
   ]
  },
  {
   "cell_type": "code",
   "execution_count": 13,
   "id": "1e710f25-38bb-4497-a0a6-1f398016f69b",
   "metadata": {},
   "outputs": [
    {
     "data": {
      "text/html": [
       "<style>#sk-container-id-2 {color: black;background-color: white;}#sk-container-id-2 pre{padding: 0;}#sk-container-id-2 div.sk-toggleable {background-color: white;}#sk-container-id-2 label.sk-toggleable__label {cursor: pointer;display: block;width: 100%;margin-bottom: 0;padding: 0.3em;box-sizing: border-box;text-align: center;}#sk-container-id-2 label.sk-toggleable__label-arrow:before {content: \"▸\";float: left;margin-right: 0.25em;color: #696969;}#sk-container-id-2 label.sk-toggleable__label-arrow:hover:before {color: black;}#sk-container-id-2 div.sk-estimator:hover label.sk-toggleable__label-arrow:before {color: black;}#sk-container-id-2 div.sk-toggleable__content {max-height: 0;max-width: 0;overflow: hidden;text-align: left;background-color: #f0f8ff;}#sk-container-id-2 div.sk-toggleable__content pre {margin: 0.2em;color: black;border-radius: 0.25em;background-color: #f0f8ff;}#sk-container-id-2 input.sk-toggleable__control:checked~div.sk-toggleable__content {max-height: 200px;max-width: 100%;overflow: auto;}#sk-container-id-2 input.sk-toggleable__control:checked~label.sk-toggleable__label-arrow:before {content: \"▾\";}#sk-container-id-2 div.sk-estimator input.sk-toggleable__control:checked~label.sk-toggleable__label {background-color: #d4ebff;}#sk-container-id-2 div.sk-label input.sk-toggleable__control:checked~label.sk-toggleable__label {background-color: #d4ebff;}#sk-container-id-2 input.sk-hidden--visually {border: 0;clip: rect(1px 1px 1px 1px);clip: rect(1px, 1px, 1px, 1px);height: 1px;margin: -1px;overflow: hidden;padding: 0;position: absolute;width: 1px;}#sk-container-id-2 div.sk-estimator {font-family: monospace;background-color: #f0f8ff;border: 1px dotted black;border-radius: 0.25em;box-sizing: border-box;margin-bottom: 0.5em;}#sk-container-id-2 div.sk-estimator:hover {background-color: #d4ebff;}#sk-container-id-2 div.sk-parallel-item::after {content: \"\";width: 100%;border-bottom: 1px solid gray;flex-grow: 1;}#sk-container-id-2 div.sk-label:hover label.sk-toggleable__label {background-color: #d4ebff;}#sk-container-id-2 div.sk-serial::before {content: \"\";position: absolute;border-left: 1px solid gray;box-sizing: border-box;top: 0;bottom: 0;left: 50%;z-index: 0;}#sk-container-id-2 div.sk-serial {display: flex;flex-direction: column;align-items: center;background-color: white;padding-right: 0.2em;padding-left: 0.2em;position: relative;}#sk-container-id-2 div.sk-item {position: relative;z-index: 1;}#sk-container-id-2 div.sk-parallel {display: flex;align-items: stretch;justify-content: center;background-color: white;position: relative;}#sk-container-id-2 div.sk-item::before, #sk-container-id-2 div.sk-parallel-item::before {content: \"\";position: absolute;border-left: 1px solid gray;box-sizing: border-box;top: 0;bottom: 0;left: 50%;z-index: -1;}#sk-container-id-2 div.sk-parallel-item {display: flex;flex-direction: column;z-index: 1;position: relative;background-color: white;}#sk-container-id-2 div.sk-parallel-item:first-child::after {align-self: flex-end;width: 50%;}#sk-container-id-2 div.sk-parallel-item:last-child::after {align-self: flex-start;width: 50%;}#sk-container-id-2 div.sk-parallel-item:only-child::after {width: 0;}#sk-container-id-2 div.sk-dashed-wrapped {border: 1px dashed gray;margin: 0 0.4em 0.5em 0.4em;box-sizing: border-box;padding-bottom: 0.4em;background-color: white;}#sk-container-id-2 div.sk-label label {font-family: monospace;font-weight: bold;display: inline-block;line-height: 1.2em;}#sk-container-id-2 div.sk-label-container {text-align: center;}#sk-container-id-2 div.sk-container {/* jupyter's `normalize.less` sets `[hidden] { display: none; }` but bootstrap.min.css set `[hidden] { display: none !important; }` so we also need the `!important` here to be able to override the default hidden behavior on the sphinx rendered scikit-learn.org. See: https://github.com/scikit-learn/scikit-learn/issues/21755 */display: inline-block !important;position: relative;}#sk-container-id-2 div.sk-text-repr-fallback {display: none;}</style><div id=\"sk-container-id-2\" class=\"sk-top-container\"><div class=\"sk-text-repr-fallback\"><pre>RandomForestClassifier()</pre><b>In a Jupyter environment, please rerun this cell to show the HTML representation or trust the notebook. <br />On GitHub, the HTML representation is unable to render, please try loading this page with nbviewer.org.</b></div><div class=\"sk-container\" hidden><div class=\"sk-item\"><div class=\"sk-estimator sk-toggleable\"><input class=\"sk-toggleable__control sk-hidden--visually\" id=\"sk-estimator-id-2\" type=\"checkbox\" checked><label for=\"sk-estimator-id-2\" class=\"sk-toggleable__label sk-toggleable__label-arrow\">RandomForestClassifier</label><div class=\"sk-toggleable__content\"><pre>RandomForestClassifier()</pre></div></div></div></div></div>"
      ],
      "text/plain": [
       "RandomForestClassifier()"
      ]
     },
     "execution_count": 13,
     "metadata": {},
     "output_type": "execute_result"
    }
   ],
   "source": [
    "from sklearn.ensemble import RandomForestClassifier\n",
    "rfmodel = RandomForestClassifier()\n",
    "rfmodel.fit(X_train, y_train)"
   ]
  },
  {
   "cell_type": "markdown",
   "id": "c1c1e186-de17-414a-840f-71addc8ad3f2",
   "metadata": {},
   "source": [
    "#### XGBoost\n",
    "- GridSearch를 통한 최적의 Hyperparameter 찾기\n",
    "- 최고 성능의 parameter를 통한 모델 학습"
   ]
  },
  {
   "cell_type": "code",
   "execution_count": 14,
   "id": "0fd7ff41-eddb-47e8-b82f-020cce3eab4e",
   "metadata": {},
   "outputs": [],
   "source": [
    "# !pip install xgboost"
   ]
  },
  {
   "cell_type": "code",
   "execution_count": 15,
   "id": "9a6f0263-276d-4817-8719-0ba33982a45f",
   "metadata": {},
   "outputs": [],
   "source": [
    "# from xgboost import XGBClassifier\n",
    "# xgb = XGBClassifier()\n",
    "# param_grid = {\n",
    "#     'n_estimators': [100, 200, 300],\n",
    "#     'max_depth': [3, 5, 7],\n",
    "#     'learning_rate': [0.01, 0.1, 1],\n",
    "#     'subsample': [0.5, 0.7, 1],\n",
    "#     'colsample_bytree': [0.5, 0.7, 1]\n",
    "# }\n",
    "# xgb_grid = GridSearchCV(xgb, param_grid, cv=5)\n",
    "# xgb_grid.fit(X_train, y_train)\n",
    "# xgb_best = xgb_grid.best_estimator_\n",
    "# print(\"XGBoost Best Score:\", xgb_grid.best_score_)\n",
    "# print(\"XGBoost Best Params:\", xgb_grid.best_params_)"
   ]
  },
  {
   "cell_type": "markdown",
   "id": "f9cacd70-0fed-42c8-ae8c-183d4d89c2f0",
   "metadata": {},
   "source": [
    "기본 parameter 설정"
   ]
  },
  {
   "cell_type": "code",
   "execution_count": 16,
   "id": "e40f5015-f37c-4776-8a8f-2522d559e192",
   "metadata": {},
   "outputs": [
    {
     "data": {
      "text/html": [
       "<style>#sk-container-id-3 {color: black;background-color: white;}#sk-container-id-3 pre{padding: 0;}#sk-container-id-3 div.sk-toggleable {background-color: white;}#sk-container-id-3 label.sk-toggleable__label {cursor: pointer;display: block;width: 100%;margin-bottom: 0;padding: 0.3em;box-sizing: border-box;text-align: center;}#sk-container-id-3 label.sk-toggleable__label-arrow:before {content: \"▸\";float: left;margin-right: 0.25em;color: #696969;}#sk-container-id-3 label.sk-toggleable__label-arrow:hover:before {color: black;}#sk-container-id-3 div.sk-estimator:hover label.sk-toggleable__label-arrow:before {color: black;}#sk-container-id-3 div.sk-toggleable__content {max-height: 0;max-width: 0;overflow: hidden;text-align: left;background-color: #f0f8ff;}#sk-container-id-3 div.sk-toggleable__content pre {margin: 0.2em;color: black;border-radius: 0.25em;background-color: #f0f8ff;}#sk-container-id-3 input.sk-toggleable__control:checked~div.sk-toggleable__content {max-height: 200px;max-width: 100%;overflow: auto;}#sk-container-id-3 input.sk-toggleable__control:checked~label.sk-toggleable__label-arrow:before {content: \"▾\";}#sk-container-id-3 div.sk-estimator input.sk-toggleable__control:checked~label.sk-toggleable__label {background-color: #d4ebff;}#sk-container-id-3 div.sk-label input.sk-toggleable__control:checked~label.sk-toggleable__label {background-color: #d4ebff;}#sk-container-id-3 input.sk-hidden--visually {border: 0;clip: rect(1px 1px 1px 1px);clip: rect(1px, 1px, 1px, 1px);height: 1px;margin: -1px;overflow: hidden;padding: 0;position: absolute;width: 1px;}#sk-container-id-3 div.sk-estimator {font-family: monospace;background-color: #f0f8ff;border: 1px dotted black;border-radius: 0.25em;box-sizing: border-box;margin-bottom: 0.5em;}#sk-container-id-3 div.sk-estimator:hover {background-color: #d4ebff;}#sk-container-id-3 div.sk-parallel-item::after {content: \"\";width: 100%;border-bottom: 1px solid gray;flex-grow: 1;}#sk-container-id-3 div.sk-label:hover label.sk-toggleable__label {background-color: #d4ebff;}#sk-container-id-3 div.sk-serial::before {content: \"\";position: absolute;border-left: 1px solid gray;box-sizing: border-box;top: 0;bottom: 0;left: 50%;z-index: 0;}#sk-container-id-3 div.sk-serial {display: flex;flex-direction: column;align-items: center;background-color: white;padding-right: 0.2em;padding-left: 0.2em;position: relative;}#sk-container-id-3 div.sk-item {position: relative;z-index: 1;}#sk-container-id-3 div.sk-parallel {display: flex;align-items: stretch;justify-content: center;background-color: white;position: relative;}#sk-container-id-3 div.sk-item::before, #sk-container-id-3 div.sk-parallel-item::before {content: \"\";position: absolute;border-left: 1px solid gray;box-sizing: border-box;top: 0;bottom: 0;left: 50%;z-index: -1;}#sk-container-id-3 div.sk-parallel-item {display: flex;flex-direction: column;z-index: 1;position: relative;background-color: white;}#sk-container-id-3 div.sk-parallel-item:first-child::after {align-self: flex-end;width: 50%;}#sk-container-id-3 div.sk-parallel-item:last-child::after {align-self: flex-start;width: 50%;}#sk-container-id-3 div.sk-parallel-item:only-child::after {width: 0;}#sk-container-id-3 div.sk-dashed-wrapped {border: 1px dashed gray;margin: 0 0.4em 0.5em 0.4em;box-sizing: border-box;padding-bottom: 0.4em;background-color: white;}#sk-container-id-3 div.sk-label label {font-family: monospace;font-weight: bold;display: inline-block;line-height: 1.2em;}#sk-container-id-3 div.sk-label-container {text-align: center;}#sk-container-id-3 div.sk-container {/* jupyter's `normalize.less` sets `[hidden] { display: none; }` but bootstrap.min.css set `[hidden] { display: none !important; }` so we also need the `!important` here to be able to override the default hidden behavior on the sphinx rendered scikit-learn.org. See: https://github.com/scikit-learn/scikit-learn/issues/21755 */display: inline-block !important;position: relative;}#sk-container-id-3 div.sk-text-repr-fallback {display: none;}</style><div id=\"sk-container-id-3\" class=\"sk-top-container\"><div class=\"sk-text-repr-fallback\"><pre>XGBClassifier(base_score=None, booster=None, callbacks=None,\n",
       "              colsample_bylevel=None, colsample_bynode=None,\n",
       "              colsample_bytree=None, early_stopping_rounds=None,\n",
       "              enable_categorical=False, eval_metric=None, feature_types=None,\n",
       "              gamma=None, gpu_id=None, grow_policy=None, importance_type=None,\n",
       "              interaction_constraints=None, learning_rate=None, max_bin=None,\n",
       "              max_cat_threshold=None, max_cat_to_onehot=None,\n",
       "              max_delta_step=None, max_depth=None, max_leaves=None,\n",
       "              min_child_weight=None, missing=nan, monotone_constraints=None,\n",
       "              n_estimators=100, n_jobs=None, num_parallel_tree=None,\n",
       "              predictor=None, random_state=None, ...)</pre><b>In a Jupyter environment, please rerun this cell to show the HTML representation or trust the notebook. <br />On GitHub, the HTML representation is unable to render, please try loading this page with nbviewer.org.</b></div><div class=\"sk-container\" hidden><div class=\"sk-item\"><div class=\"sk-estimator sk-toggleable\"><input class=\"sk-toggleable__control sk-hidden--visually\" id=\"sk-estimator-id-3\" type=\"checkbox\" checked><label for=\"sk-estimator-id-3\" class=\"sk-toggleable__label sk-toggleable__label-arrow\">XGBClassifier</label><div class=\"sk-toggleable__content\"><pre>XGBClassifier(base_score=None, booster=None, callbacks=None,\n",
       "              colsample_bylevel=None, colsample_bynode=None,\n",
       "              colsample_bytree=None, early_stopping_rounds=None,\n",
       "              enable_categorical=False, eval_metric=None, feature_types=None,\n",
       "              gamma=None, gpu_id=None, grow_policy=None, importance_type=None,\n",
       "              interaction_constraints=None, learning_rate=None, max_bin=None,\n",
       "              max_cat_threshold=None, max_cat_to_onehot=None,\n",
       "              max_delta_step=None, max_depth=None, max_leaves=None,\n",
       "              min_child_weight=None, missing=nan, monotone_constraints=None,\n",
       "              n_estimators=100, n_jobs=None, num_parallel_tree=None,\n",
       "              predictor=None, random_state=None, ...)</pre></div></div></div></div></div>"
      ],
      "text/plain": [
       "XGBClassifier(base_score=None, booster=None, callbacks=None,\n",
       "              colsample_bylevel=None, colsample_bynode=None,\n",
       "              colsample_bytree=None, early_stopping_rounds=None,\n",
       "              enable_categorical=False, eval_metric=None, feature_types=None,\n",
       "              gamma=None, gpu_id=None, grow_policy=None, importance_type=None,\n",
       "              interaction_constraints=None, learning_rate=None, max_bin=None,\n",
       "              max_cat_threshold=None, max_cat_to_onehot=None,\n",
       "              max_delta_step=None, max_depth=None, max_leaves=None,\n",
       "              min_child_weight=None, missing=nan, monotone_constraints=None,\n",
       "              n_estimators=100, n_jobs=None, num_parallel_tree=None,\n",
       "              predictor=None, random_state=None, ...)"
      ]
     },
     "execution_count": 16,
     "metadata": {},
     "output_type": "execute_result"
    }
   ],
   "source": [
    "from xgboost import XGBClassifier\n",
    "xgbmodel = XGBClassifier()\n",
    "xgbmodel.fit(X_train, y_train)"
   ]
  },
  {
   "cell_type": "markdown",
   "id": "77aca6ef-85db-4af2-98bf-bc6ddeb6c90e",
   "metadata": {},
   "source": [
    "## 예측"
   ]
  },
  {
   "cell_type": "code",
   "execution_count": 17,
   "id": "cb5f28c9-5547-4414-9097-3e3185e437f8",
   "metadata": {},
   "outputs": [],
   "source": [
    "y_pred_lr = lrmodel.predict(X_test)\n",
    "\n",
    "y_pred_rf = rfmodel.predict(X_test)\n",
    "\n",
    "y_pred_xgb = xgbmodel.predict(X_test)"
   ]
  },
  {
   "cell_type": "markdown",
   "id": "2935f8f1-85d7-4ae7-94cd-245178822681",
   "metadata": {},
   "source": [
    "## 평가"
   ]
  },
  {
   "cell_type": "markdown",
   "id": "4cea2954-0b27-45db-be58-c42eb76f5363",
   "metadata": {},
   "source": [
    "#### 각 모델의 4가지 평가 지표"
   ]
  },
  {
   "cell_type": "code",
   "execution_count": 18,
   "id": "3aba93c4-6312-421f-ab04-263334138d3b",
   "metadata": {},
   "outputs": [],
   "source": [
    "from sklearn.metrics import classification_report, precision_score, recall_score, roc_auc_score, accuracy_score, f1_score, confusion_matrix\n",
    "\n",
    "def evaluation(y_true,y_pred):\n",
    "    print(\"Accuracy: {:.2f}\".format(accuracy_score(y_true,y_pred)))\n",
    "    print(\"Precision: {:.2f}\".format(precision_score(y_true,y_pred)))\n",
    "    print(\"Recall: {:.2f}\".format(recall_score(y_true,y_pred)))\n",
    "    print(\"f1-score: {:.2f}\".format(f1_score(y_true,y_pred)))\n",
    "    print(\"ROC_AUC: {:.2f}\".format(roc_auc_score(y_true,y_pred)))\n",
    "    print(confusion_matrix(y_true,y_pred))"
   ]
  },
  {
   "cell_type": "code",
   "execution_count": 19,
   "id": "f2504219-ef32-43e5-890b-b2eb0017df6d",
   "metadata": {},
   "outputs": [
    {
     "name": "stdout",
     "output_type": "stream",
     "text": [
      "Logistic Classifier\n",
      "Accuracy: 0.77\n",
      "Precision: 0.72\n",
      "Recall: 0.90\n",
      "f1-score: 0.80\n",
      "ROC_AUC: 0.77\n",
      "[[ 86  49]\n",
      " [ 13 123]]\n"
     ]
    }
   ],
   "source": [
    "print(\"Logistic Classifier\")\n",
    "evaluation(y_test, y_pred_lr)"
   ]
  },
  {
   "cell_type": "code",
   "execution_count": 20,
   "id": "c381f679-9475-450e-b27f-8c09bc1b4460",
   "metadata": {},
   "outputs": [
    {
     "name": "stdout",
     "output_type": "stream",
     "text": [
      "RandomForest Classifier\n",
      "Accuracy: 0.82\n",
      "Precision: 0.78\n",
      "Recall: 0.90\n",
      "f1-score: 0.83\n",
      "ROC_AUC: 0.82\n",
      "[[100  35]\n",
      " [ 14 122]]\n"
     ]
    }
   ],
   "source": [
    "print(\"RandomForest Classifier\")\n",
    "evaluation(y_test, y_pred_rf)"
   ]
  },
  {
   "cell_type": "code",
   "execution_count": 21,
   "id": "e6240606-b666-4037-9704-221548ff11fa",
   "metadata": {},
   "outputs": [
    {
     "name": "stdout",
     "output_type": "stream",
     "text": [
      "XGBoost Classifier\n",
      "Accuracy: 0.80\n",
      "Precision: 0.78\n",
      "Recall: 0.85\n",
      "f1-score: 0.81\n",
      "ROC_AUC: 0.80\n",
      "[[102  33]\n",
      " [ 20 116]]\n"
     ]
    }
   ],
   "source": [
    "print(\"XGBoost Classifier\")\n",
    "evaluation(y_test, y_pred_xgb)"
   ]
  },
  {
   "cell_type": "markdown",
   "id": "04a318a3-4792-40fe-97d2-621ee8e32ee9",
   "metadata": {},
   "source": [
    "## 최종 모델 선정\n",
    "- F1-score, accuracy, precision, recall 순으로 우선순위를 정함\n",
    "- recall : 1(natural)이라고 예측한 것이 진짜 \n",
    "- precision : 1(natural)이라고 판단한 것 중, 진짜 1(natural)일 확률\n",
    "- 데이터 정제 라는 목적 상, 라벨은 0(un-natural)인데, 1(natural)이라고 잘못 판단하는 경우를 최소화 해야하기 때문에  두 지표 중에서는 precision에 우선순위를 둔다.\n",
    "- 해당 우선순위는 데이터의 양, 특성에 따라 변화된다."
   ]
  },
  {
   "cell_type": "markdown",
   "id": "6021cbfa-c9b5-4af9-bfd2-562fd76b5409",
   "metadata": {},
   "source": [
    "#### 모델 성능 비교 시각화"
   ]
  },
  {
   "cell_type": "code",
   "execution_count": 22,
   "id": "f33cc06b-6865-4127-834d-5514ef926e0d",
   "metadata": {},
   "outputs": [
    {
     "data": {
      "image/png": "[encoded data removed]",
      "text/plain": [
       "<Figure size 640x480 with 1 Axes>"
      ]
     },
     "metadata": {},
     "output_type": "display_data"
    }
   ],
   "source": [
    "from sklearn.metrics import accuracy_score, f1_score\n",
    "import matplotlib.pyplot as plt\n",
    "import numpy as np\n",
    "\n",
    "models = [\"Logistic Regression\", \"Random Forest\", \"XGBoost\"]\n",
    "y_preds = [y_pred_lr, y_pred_rf, y_pred_xgb]\n",
    "acc_scores = [accuracy_score(y_test, y_pred) for y_pred in y_preds]\n",
    "f1_scores = [f1_score(y_test, y_pred) for y_pred in y_preds]\n",
    "\n",
    "x = np.arange(len(models))\n",
    "width = 0.35\n",
    "\n",
    "fig, ax = plt.subplots()\n",
    "rects1 = ax.bar(x - width/2, acc_scores, width, label='Accuracy')\n",
    "rects2 = ax.bar(x + width/2, f1_scores, width, label='F1-Score')\n",
    "\n",
    "ax.set_ylim([0, 1])\n",
    "ax.set_xticks(x)\n",
    "ax.set_xticklabels(models)\n",
    "ax.legend(fontsize=8)\n",
    "ax.set_title(\"Comparison of Model Performance\")\n",
    "ax.set_xlabel(\"Models\")\n",
    "ax.set_ylabel(\"Scores\")\n",
    "\n",
    "for i, v in enumerate(acc_scores):\n",
    "    ax.annotate(str(round(v, 2)), xy=(i - width/2, v), xytext=(0, 3), textcoords='offset points', ha='center', va='bottom')\n",
    "    \n",
    "for i, v in enumerate(f1_scores):\n",
    "    ax.annotate(str(round(v, 2)), xy=(i + width/2, v), xytext=(0, 3), textcoords='offset points', ha='center', va='bottom')\n",
    "\n",
    "plt.tight_layout()\n",
    "plt.show()\n"
   ]
  },
  {
   "cell_type": "code",
   "execution_count": 23,
   "id": "cf39fa43-8ea7-4f7b-8a46-32f61f23af0d",
   "metadata": {},
   "outputs": [],
   "source": [
    "# confusion matrix\n",
    "from sklearn.metrics import confusion_matrix\n",
    "import seaborn as sns\n",
    "\n",
    "def make_confusion_matrix(model_name, y_test, y_pred):\n",
    "    cfm = confusion_matrix(y_test, y_pred)\n",
    "    sns.heatmap(cfm, annot=True, cbar=False)\n",
    "    plt.title(model_name)\n",
    "    plt.ylabel('Actual Class')\n",
    "    plt.xlabel('Predict Class')\n",
    "    plt.show()"
   ]
  },
  {
   "cell_type": "code",
   "execution_count": 24,
   "id": "775a704e",
   "metadata": {
    "scrolled": true
   },
   "outputs": [
    {
     "data": {
      "image/png": "[encoded data removed]",
      "text/plain": [
       "<Figure size 640x480 with 1 Axes>"
      ]
     },
     "metadata": {},
     "output_type": "display_data"
    }
   ],
   "source": [
    "make_confusion_matrix(\"Random Forest\", y_test, y_pred_rf)"
   ]
  },
  {
   "cell_type": "code",
   "execution_count": 25,
   "id": "cca06f88-1f6a-44c9-9fab-8b3870e6d7a0",
   "metadata": {},
   "outputs": [],
   "source": [
    "import pickle\n",
    "\n",
    "with open('SUPERVISED_LEARNING_RF.pkl', 'wb') as f:\n",
    "    pickle.dump(rfmodel, f)"
   ]
  }
 ],
 "metadata": {
  "kernelspec": {
   "display_name": "Python 3 (ipykernel)",
   "language": "python",
   "name": "python3"
  },
  "language_info": {
   "codemirror_mode": {
    "name": "ipython",
    "version": 3
   },
   "file_extension": ".py",
   "mimetype": "text/x-python",
   "name": "python",
   "nbconvert_exporter": "python",
   "pygments_lexer": "ipython3",
   "version": "3.10.9"
  }
 },
 "nbformat": 4,
 "nbformat_minor": 5
}
